{
  "nbformat": 4,
  "nbformat_minor": 0,
  "metadata": {
    "colab": {
      "name": "Models By State.ipynb",
      "provenance": [],
      "collapsed_sections": []
    },
    "kernelspec": {
      "name": "python3",
      "display_name": "Python 3"
    },
    "language_info": {
      "name": "python"
    }
  },
  "cells": [
    {
      "cell_type": "code",
      "execution_count": null,
      "metadata": {
        "id": "Lk9It_y_saGO"
      },
      "outputs": [],
      "source": [
        "# imports - processing, models, metrics\n",
        "import pandas as pd\n",
        "import numpy as np\n",
        "import matplotlib.pyplot as plt\n",
        "import time\n",
        "\n",
        "from sklearn.linear_model import LogisticRegression\n",
        "from sklearn.ensemble import AdaBoostClassifier, RandomForestClassifier, GradientBoostingClassifier\n",
        "from sklearn.ensemble import BaggingClassifier, ExtraTreesClassifier\n",
        "from sklearn.ensemble import StackingClassifier, VotingClassifier\n",
        "from sklearn.neighbors import KNeighborsClassifier\n",
        "from sklearn.svm import SVC\n",
        "from sklearn.tree import DecisionTreeClassifier\n",
        "\n",
        "\n",
        "from sklearn.metrics import f1_score, log_loss, accuracy_score\n",
        "\n",
        "from scipy.stats import entropy"
      ]
    },
    {
      "cell_type": "code",
      "source": [
        "# read in data\n",
        "## mount google drive\n",
        "from google.colab import drive\n",
        "drive.mount('/content/drive')\n",
        "\n",
        "## read in files and combine into 1 dataframe\n",
        "states = ['CA', 'TX', 'AZ', 'CO', 'NY', 'KS', 'NC', 'GA', 'FL', 'OR', 'MT', 'AL']\n",
        "Fires = pd.DataFrame()\n",
        "for state in states:\n",
        "  path = '/content/drive/MyDrive/DS 440/Final Report/Data/Big' + state + '.csv'\n",
        "  df = pd.read_csv(path)\n",
        "  Fires = Fires.append(df)\n"
      ],
      "metadata": {
        "colab": {
          "base_uri": "https://localhost:8080/"
        },
        "id": "lF7EmhdqselM",
        "outputId": "9295c11c-91d2-41b9-d1d6-b960cb57501f"
      },
      "execution_count": null,
      "outputs": [
        {
          "output_type": "stream",
          "name": "stdout",
          "text": [
            "Drive already mounted at /content/drive; to attempt to forcibly remount, call drive.mount(\"/content/drive\", force_remount=True).\n"
          ]
        }
      ]
    },
    {
      "cell_type": "code",
      "source": [
        "#########################################\n",
        "# pseudocode for training and evaluating national model\n",
        "\n",
        "# Model Experiment = DataFrame\n",
        "\n",
        "# for model\n",
        "#   fit model\n",
        "#   make predictions\n",
        "#   evaluate predictions\n",
        "#   store: model obj, model type, f1 score, trained nationally, evaluated nationally\n",
        "\n",
        "\n",
        "\n",
        "#########################################\n",
        "# pseudocode for training and evaluating state models\n",
        "\n",
        "# for state\n",
        "#   for model\n",
        "#     fit model\n",
        "#     make predictions\n",
        "#     evaluate predictions\n",
        "#     store: model obj, model type, f1 score, trained by state, evaluated by state\n",
        "\n",
        "\n",
        "\n",
        "##########################################\n",
        "# pseudocode for evaluating national models on states\n",
        "\n",
        "# for state\n",
        "#   for model\n",
        "#     make predictions on state using a national model\n",
        "#     evaluate predictions\n",
        "#     store: model obj, model type, f1 score, trained nationally, evaluated by state\n",
        "\n",
        "\n",
        "\n",
        "##########################################\n",
        "############ RETHINK THIS ################\n",
        "##########################################\n",
        "# pseudocode for evaluating national and state models on states\n",
        "\n",
        "# for state\n",
        "#   for model\n",
        "#     make predictions on state with national or state model - whichever is best\n",
        "#     evaluate predictions\n",
        "#     store: model obj, model type, f1 score, trained nationally, evaluated by state\n",
        "\n",
        "####################################################################################\n",
        "\n",
        "# See results of this\n",
        "\n",
        "# mean f1-score on national model on nation\n",
        "# mean f1-score on states by national model\n",
        "# mean f1-score on states by state model\n",
        "# mean f1-score on states by national and state combo\n",
        "\n",
        "# plot f1-scores on states by national model + hline for mean\n",
        "# plot f1-scores on states by state models + hline for mean\n",
        "# plot f1-scores on states by combo of models + hline for mean"
      ],
      "metadata": {
        "id": "Dnwtk_mL7lnX"
      },
      "execution_count": null,
      "outputs": []
    },
    {
      "cell_type": "code",
      "source": [
        "# create output feature\n",
        "output_feature = 'SmallBig'\n",
        "Fires['SmallBig'] = np.nan\n",
        "small = ['A']\n",
        "big = ['B','C','D','E','F','G']\n",
        "Fires.loc[Fires['FIRE_SIZE_CLASS'].isin(small), 'SmallBig'] = 0\n",
        "Fires.loc[Fires['FIRE_SIZE_CLASS'].isin(big), 'SmallBig'] = 1\n",
        "\n",
        "# select features\n",
        "input_features = ['LATITUDE','LONGITUDE',\\\n",
        "                  'DISCOVERY_MONTH','DAYS_TO_CONT']\n",
        "\n",
        "# split into train and test\n",
        "X_train = Fires[Fires['FIRE_YEAR'] < 2018][input_features].copy()\n",
        "y_train = Fires[Fires['FIRE_YEAR'] < 2018][output_feature].copy()\n",
        "X_test = Fires[Fires['FIRE_YEAR'] == 2018][input_features].copy()\n",
        "y_test = Fires[Fires['FIRE_YEAR'] == 2018][output_feature].copy()\n",
        "\n",
        "# keep track of experiments\n",
        "ModelsExperiments = pd.DataFrame(columns=['model_type','f1','model_obj',\\\n",
        "                                          'trained_by','eval_by'])\n",
        "\n",
        "# model list\n",
        "models = [LogisticRegression(), KNeighborsClassifier(), \\\n",
        "          AdaBoostClassifier(), RandomForestClassifier(), \\\n",
        "          GradientBoostingClassifier(), DecisionTreeClassifier()] # SVC\n",
        "\n",
        "\n",
        "# train models\n",
        "for model in models:\n",
        "  start = time.time()\n",
        "\n",
        "  # train model\n",
        "  clf = model.fit(X_train,y_train)\n",
        "\n",
        "  # make predictions\n",
        "  y_pred = clf.predict(X_test)\n",
        "\n",
        "  # evaluate predictions\n",
        "  f1 = f1_score(y_test,y_pred)\n",
        "\n",
        "  # store results in DataFrame\n",
        "  row = {'model_type':model,'model_obj':clf,'f1':f1,\\\n",
        "         'trained_by':'National','eval_by':'National'}\n",
        "  row_df = pd.DataFrame([row],columns=row.keys())\n",
        "  ModelsExperiments = pd.concat([ModelsExperiments,row_df])\n",
        "  #ModelsExperiments.reset_index(inplace=True)\n",
        "\n",
        "  # print results to output\n",
        "  print(str(model), 'f1-score: ',f1) \n",
        "  end = time.time()\n",
        "  print('time to train ',str(model),' =',str(end-start))\n",
        "  print()\n",
        "\n"
      ],
      "metadata": {
        "colab": {
          "base_uri": "https://localhost:8080/"
        },
        "id": "LZGCbjCT16yt",
        "outputId": "c98cfcfa-af7b-4aa3-afb7-c3768afd4c91"
      },
      "execution_count": null,
      "outputs": [
        {
          "output_type": "stream",
          "name": "stdout",
          "text": [
            "LogisticRegression() f1-score:  0.5875016762773233\n",
            "time to train  LogisticRegression()  = 1.2931430339813232\n",
            "\n",
            "KNeighborsClassifier() f1-score:  0.6875623585525514\n",
            "time to train  KNeighborsClassifier()  = 1.9925777912139893\n",
            "\n",
            "AdaBoostClassifier() f1-score:  0.6866362926976616\n",
            "time to train  AdaBoostClassifier()  = 6.0677642822265625\n",
            "\n",
            "RandomForestClassifier() f1-score:  0.7128114049824799\n",
            "time to train  RandomForestClassifier()  = 41.68354320526123\n",
            "\n",
            "GradientBoostingClassifier() f1-score:  0.7052434087093908\n",
            "time to train  GradientBoostingClassifier()  = 19.76398229598999\n",
            "\n",
            "DecisionTreeClassifier() f1-score:  0.6597653876711689\n",
            "time to train  DecisionTreeClassifier()  = 0.9972264766693115\n",
            "\n"
          ]
        }
      ]
    },
    {
      "cell_type": "code",
      "source": [
        "ModelsExperiments['f1'].mean()"
      ],
      "metadata": {
        "colab": {
          "base_uri": "https://localhost:8080/"
        },
        "id": "31RPqh3cjJrU",
        "outputId": "7ca82f55-60a2-4f1e-d6ec-747fbb5d900b"
      },
      "execution_count": null,
      "outputs": [
        {
          "output_type": "execute_result",
          "data": {
            "text/plain": [
              "0.6732534214817627"
            ]
          },
          "metadata": {},
          "execution_count": 54
        }
      ]
    },
    {
      "cell_type": "markdown",
      "source": [
        "Tree-based ensemble: 0.7008"
      ],
      "metadata": {
        "id": "hVRSRcK5i9q8"
      }
    },
    {
      "cell_type": "markdown",
      "source": [
        "# National Baseline with weather"
      ],
      "metadata": {
        "id": "SKVHj1ZOsj4k"
      }
    },
    {
      "cell_type": "code",
      "source": [
        "# create output feature\n",
        "output_feature = 'SmallBig'\n",
        "Fires['SmallBig'] = np.nan\n",
        "small = ['A']\n",
        "big = ['B','C','D','E','F','G']\n",
        "Fires.loc[Fires['FIRE_SIZE_CLASS'].isin(small), 'SmallBig'] = 0\n",
        "Fires.loc[Fires['FIRE_SIZE_CLASS'].isin(big), 'SmallBig'] = 1\n",
        "\n",
        "# remove fill value\n",
        "FiresNew = Fires[Fires['aet'] != 32768.].copy()\n",
        "\n",
        "# select features\n",
        "input_features = ['LATITUDE','LONGITUDE',\\\n",
        "                  'DISCOVERY_MONTH','aet', 'pet', 'soil',\\\n",
        "                  'def', 'ppt', 'q',  'vap', 'ws', 'vpd', 'swe'] \n",
        "# PDSI, tmax, tmin, srad, 'DAYS_TO_CONT', \n",
        "\n",
        "# split into train and test\n",
        "X_train = FiresNew[FiresNew['FIRE_YEAR'] < 2018][input_features].copy()\n",
        "y_train = FiresNew[FiresNew['FIRE_YEAR'] < 2018][output_feature].copy()\n",
        "X_test = FiresNew[FiresNew['FIRE_YEAR'] == 2018][input_features].copy()\n",
        "y_test = FiresNew[FiresNew['FIRE_YEAR'] == 2018][output_feature].copy()\n",
        "\n",
        "# keep track of experiments\n",
        "ModelsExperiments = pd.DataFrame(columns=['model_type','f1','model_obj',\\\n",
        "                                          'trained_by','eval_by'])\n",
        "\n",
        "# model list\n",
        "models = [LogisticRegression, KNeighborsClassifier, \\\n",
        "          AdaBoostClassifier, RandomForestClassifier, \\\n",
        "          GradientBoostingClassifier, DecisionTreeClassifier] # SVC\n",
        "\n",
        "# train models\n",
        "for model in models:\n",
        "  start = time.time()\n",
        "\n",
        "  # train model\n",
        "  clf = model().fit(X_train,y_train)\n",
        "\n",
        "  # make predictions\n",
        "  y_pred = clf.predict(X_test)\n",
        "\n",
        "  # evaluate predictions\n",
        "  f1 = f1_score(y_test,y_pred)\n",
        "\n",
        "  # store results in DataFrame\n",
        "  row = {'model_type':str(model),'model_obj':clf,'f1':f1,\\\n",
        "         'trained_by':'National','eval_by':'National'}\n",
        "  row_df = pd.DataFrame([row],columns=row.keys())\n",
        "  ModelsExperiments = pd.concat([ModelsExperiments,row_df])\n",
        "  #ModelsExperiments.reset_index(inplace=True)\n",
        "\n",
        "  # print results to output\n",
        "  print(str(model), 'f1-score: ',f1) \n",
        "  end = time.time()\n",
        "  print('time to train ',str(model),' =',str(end-start))\n",
        "  print()"
      ],
      "metadata": {
        "id": "-nO2fsaJsgHk",
        "colab": {
          "base_uri": "https://localhost:8080/"
        },
        "outputId": "7985f917-25c7-4521-e36b-2b07783b8538"
      },
      "execution_count": null,
      "outputs": [
        {
          "output_type": "stream",
          "name": "stderr",
          "text": [
            "/usr/local/lib/python3.7/dist-packages/sklearn/linear_model/_logistic.py:818: ConvergenceWarning: lbfgs failed to converge (status=1):\n",
            "STOP: TOTAL NO. of ITERATIONS REACHED LIMIT.\n",
            "\n",
            "Increase the number of iterations (max_iter) or scale the data as shown in:\n",
            "    https://scikit-learn.org/stable/modules/preprocessing.html\n",
            "Please also refer to the documentation for alternative solver options:\n",
            "    https://scikit-learn.org/stable/modules/linear_model.html#logistic-regression\n",
            "  extra_warning_msg=_LOGISTIC_SOLVER_CONVERGENCE_MSG,\n"
          ]
        },
        {
          "output_type": "stream",
          "name": "stdout",
          "text": [
            "<class 'sklearn.linear_model._logistic.LogisticRegression'> f1-score:  0.5735623181919892\n",
            "time to train  <class 'sklearn.linear_model._logistic.LogisticRegression'>  = 4.44303822517395\n",
            "\n",
            "<class 'sklearn.neighbors._classification.KNeighborsClassifier'> f1-score:  0.6504702194357367\n",
            "time to train  <class 'sklearn.neighbors._classification.KNeighborsClassifier'>  = 4.3682541847229\n",
            "\n",
            "<class 'sklearn.ensemble._weight_boosting.AdaBoostClassifier'> f1-score:  0.7375626795875824\n",
            "time to train  <class 'sklearn.ensemble._weight_boosting.AdaBoostClassifier'>  = 7.159215450286865\n",
            "\n",
            "<class 'sklearn.ensemble._forest.RandomForestClassifier'> f1-score:  0.7673208528929361\n",
            "time to train  <class 'sklearn.ensemble._forest.RandomForestClassifier'>  = 21.928264379501343\n",
            "\n",
            "<class 'sklearn.ensemble._gb.GradientBoostingClassifier'> f1-score:  0.7563463680600341\n",
            "time to train  <class 'sklearn.ensemble._gb.GradientBoostingClassifier'>  = 24.17380714416504\n",
            "\n",
            "<class 'sklearn.tree._classes.DecisionTreeClassifier'> f1-score:  0.6741837105844828\n",
            "time to train  <class 'sklearn.tree._classes.DecisionTreeClassifier'>  = 1.222127914428711\n",
            "\n"
          ]
        }
      ]
    },
    {
      "cell_type": "markdown",
      "source": [
        "tree-based ensemble: .7539"
      ],
      "metadata": {
        "id": "SYHJzdkD7jio"
      }
    },
    {
      "cell_type": "code",
      "source": [
        "ModelsExperiments['f1'].mean()"
      ],
      "metadata": {
        "colab": {
          "base_uri": "https://localhost:8080/"
        },
        "id": "320txlHhr5qJ",
        "outputId": "251af678-255d-49b2-a2fc-f2b3864f4e45"
      },
      "execution_count": null,
      "outputs": [
        {
          "output_type": "execute_result",
          "data": {
            "text/plain": [
              "0.6932410247921269"
            ]
          },
          "metadata": {},
          "execution_count": 132
        }
      ]
    },
    {
      "cell_type": "code",
      "source": [
        "ModelsExperiments"
      ],
      "metadata": {
        "id": "AzR9VLHP7GHK",
        "outputId": "d8890ce1-1a20-4fce-cb81-b12f92210475",
        "colab": {
          "base_uri": "https://localhost:8080/",
          "height": 238
        }
      },
      "execution_count": null,
      "outputs": [
        {
          "output_type": "execute_result",
          "data": {
            "text/plain": [
              "                                          model_type        f1  \\\n",
              "0  <class 'sklearn.linear_model._logistic.Logisti...  0.573562   \n",
              "0  <class 'sklearn.neighbors._classification.KNei...  0.650470   \n",
              "0  <class 'sklearn.ensemble._weight_boosting.AdaB...  0.737563   \n",
              "0  <class 'sklearn.ensemble._forest.RandomForestC...  0.767321   \n",
              "0  <class 'sklearn.ensemble._gb.GradientBoostingC...  0.756346   \n",
              "0  <class 'sklearn.tree._classes.DecisionTreeClas...  0.674184   \n",
              "\n",
              "                                           model_obj trained_by   eval_by  \n",
              "0                               LogisticRegression()   National  National  \n",
              "0                             KNeighborsClassifier()   National  National  \n",
              "0  (DecisionTreeClassifier(max_depth=1, random_st...   National  National  \n",
              "0  (DecisionTreeClassifier(max_features='auto', r...   National  National  \n",
              "0  ([DecisionTreeRegressor(criterion='friedman_ms...   National  National  \n",
              "0                           DecisionTreeClassifier()   National  National  "
            ],
            "text/html": [
              "\n",
              "  <div id=\"df-56f7b9f3-2b2b-4b9f-a3e2-a4e9aa5b07bc\">\n",
              "    <div class=\"colab-df-container\">\n",
              "      <div>\n",
              "<style scoped>\n",
              "    .dataframe tbody tr th:only-of-type {\n",
              "        vertical-align: middle;\n",
              "    }\n",
              "\n",
              "    .dataframe tbody tr th {\n",
              "        vertical-align: top;\n",
              "    }\n",
              "\n",
              "    .dataframe thead th {\n",
              "        text-align: right;\n",
              "    }\n",
              "</style>\n",
              "<table border=\"1\" class=\"dataframe\">\n",
              "  <thead>\n",
              "    <tr style=\"text-align: right;\">\n",
              "      <th></th>\n",
              "      <th>model_type</th>\n",
              "      <th>f1</th>\n",
              "      <th>model_obj</th>\n",
              "      <th>trained_by</th>\n",
              "      <th>eval_by</th>\n",
              "    </tr>\n",
              "  </thead>\n",
              "  <tbody>\n",
              "    <tr>\n",
              "      <th>0</th>\n",
              "      <td>&lt;class 'sklearn.linear_model._logistic.Logisti...</td>\n",
              "      <td>0.573562</td>\n",
              "      <td>LogisticRegression()</td>\n",
              "      <td>National</td>\n",
              "      <td>National</td>\n",
              "    </tr>\n",
              "    <tr>\n",
              "      <th>0</th>\n",
              "      <td>&lt;class 'sklearn.neighbors._classification.KNei...</td>\n",
              "      <td>0.650470</td>\n",
              "      <td>KNeighborsClassifier()</td>\n",
              "      <td>National</td>\n",
              "      <td>National</td>\n",
              "    </tr>\n",
              "    <tr>\n",
              "      <th>0</th>\n",
              "      <td>&lt;class 'sklearn.ensemble._weight_boosting.AdaB...</td>\n",
              "      <td>0.737563</td>\n",
              "      <td>(DecisionTreeClassifier(max_depth=1, random_st...</td>\n",
              "      <td>National</td>\n",
              "      <td>National</td>\n",
              "    </tr>\n",
              "    <tr>\n",
              "      <th>0</th>\n",
              "      <td>&lt;class 'sklearn.ensemble._forest.RandomForestC...</td>\n",
              "      <td>0.767321</td>\n",
              "      <td>(DecisionTreeClassifier(max_features='auto', r...</td>\n",
              "      <td>National</td>\n",
              "      <td>National</td>\n",
              "    </tr>\n",
              "    <tr>\n",
              "      <th>0</th>\n",
              "      <td>&lt;class 'sklearn.ensemble._gb.GradientBoostingC...</td>\n",
              "      <td>0.756346</td>\n",
              "      <td>([DecisionTreeRegressor(criterion='friedman_ms...</td>\n",
              "      <td>National</td>\n",
              "      <td>National</td>\n",
              "    </tr>\n",
              "    <tr>\n",
              "      <th>0</th>\n",
              "      <td>&lt;class 'sklearn.tree._classes.DecisionTreeClas...</td>\n",
              "      <td>0.674184</td>\n",
              "      <td>DecisionTreeClassifier()</td>\n",
              "      <td>National</td>\n",
              "      <td>National</td>\n",
              "    </tr>\n",
              "  </tbody>\n",
              "</table>\n",
              "</div>\n",
              "      <button class=\"colab-df-convert\" onclick=\"convertToInteractive('df-56f7b9f3-2b2b-4b9f-a3e2-a4e9aa5b07bc')\"\n",
              "              title=\"Convert this dataframe to an interactive table.\"\n",
              "              style=\"display:none;\">\n",
              "        \n",
              "  <svg xmlns=\"http://www.w3.org/2000/svg\" height=\"24px\"viewBox=\"0 0 24 24\"\n",
              "       width=\"24px\">\n",
              "    <path d=\"M0 0h24v24H0V0z\" fill=\"none\"/>\n",
              "    <path d=\"M18.56 5.44l.94 2.06.94-2.06 2.06-.94-2.06-.94-.94-2.06-.94 2.06-2.06.94zm-11 1L8.5 8.5l.94-2.06 2.06-.94-2.06-.94L8.5 2.5l-.94 2.06-2.06.94zm10 10l.94 2.06.94-2.06 2.06-.94-2.06-.94-.94-2.06-.94 2.06-2.06.94z\"/><path d=\"M17.41 7.96l-1.37-1.37c-.4-.4-.92-.59-1.43-.59-.52 0-1.04.2-1.43.59L10.3 9.45l-7.72 7.72c-.78.78-.78 2.05 0 2.83L4 21.41c.39.39.9.59 1.41.59.51 0 1.02-.2 1.41-.59l7.78-7.78 2.81-2.81c.8-.78.8-2.07 0-2.86zM5.41 20L4 18.59l7.72-7.72 1.47 1.35L5.41 20z\"/>\n",
              "  </svg>\n",
              "      </button>\n",
              "      \n",
              "  <style>\n",
              "    .colab-df-container {\n",
              "      display:flex;\n",
              "      flex-wrap:wrap;\n",
              "      gap: 12px;\n",
              "    }\n",
              "\n",
              "    .colab-df-convert {\n",
              "      background-color: #E8F0FE;\n",
              "      border: none;\n",
              "      border-radius: 50%;\n",
              "      cursor: pointer;\n",
              "      display: none;\n",
              "      fill: #1967D2;\n",
              "      height: 32px;\n",
              "      padding: 0 0 0 0;\n",
              "      width: 32px;\n",
              "    }\n",
              "\n",
              "    .colab-df-convert:hover {\n",
              "      background-color: #E2EBFA;\n",
              "      box-shadow: 0px 1px 2px rgba(60, 64, 67, 0.3), 0px 1px 3px 1px rgba(60, 64, 67, 0.15);\n",
              "      fill: #174EA6;\n",
              "    }\n",
              "\n",
              "    [theme=dark] .colab-df-convert {\n",
              "      background-color: #3B4455;\n",
              "      fill: #D2E3FC;\n",
              "    }\n",
              "\n",
              "    [theme=dark] .colab-df-convert:hover {\n",
              "      background-color: #434B5C;\n",
              "      box-shadow: 0px 1px 3px 1px rgba(0, 0, 0, 0.15);\n",
              "      filter: drop-shadow(0px 1px 2px rgba(0, 0, 0, 0.3));\n",
              "      fill: #FFFFFF;\n",
              "    }\n",
              "  </style>\n",
              "\n",
              "      <script>\n",
              "        const buttonEl =\n",
              "          document.querySelector('#df-56f7b9f3-2b2b-4b9f-a3e2-a4e9aa5b07bc button.colab-df-convert');\n",
              "        buttonEl.style.display =\n",
              "          google.colab.kernel.accessAllowed ? 'block' : 'none';\n",
              "\n",
              "        async function convertToInteractive(key) {\n",
              "          const element = document.querySelector('#df-56f7b9f3-2b2b-4b9f-a3e2-a4e9aa5b07bc');\n",
              "          const dataTable =\n",
              "            await google.colab.kernel.invokeFunction('convertToInteractive',\n",
              "                                                     [key], {});\n",
              "          if (!dataTable) return;\n",
              "\n",
              "          const docLinkHtml = 'Like what you see? Visit the ' +\n",
              "            '<a target=\"_blank\" href=https://colab.research.google.com/notebooks/data_table.ipynb>data table notebook</a>'\n",
              "            + ' to learn more about interactive tables.';\n",
              "          element.innerHTML = '';\n",
              "          dataTable['output_type'] = 'display_data';\n",
              "          await google.colab.output.renderOutput(dataTable, element);\n",
              "          const docLink = document.createElement('div');\n",
              "          docLink.innerHTML = docLinkHtml;\n",
              "          element.appendChild(docLink);\n",
              "        }\n",
              "      </script>\n",
              "    </div>\n",
              "  </div>\n",
              "  "
            ]
          },
          "metadata": {},
          "execution_count": 133
        }
      ]
    },
    {
      "cell_type": "code",
      "source": [
        "type(ModelsExperiments['model_type'].unique()[0])"
      ],
      "metadata": {
        "colab": {
          "base_uri": "https://localhost:8080/"
        },
        "id": "sgQDPe_CqH7p",
        "outputId": "1a67fe28-bb84-4bc6-adfd-ad3af1b30219"
      },
      "execution_count": null,
      "outputs": [
        {
          "output_type": "execute_result",
          "data": {
            "text/plain": [
              "str"
            ]
          },
          "metadata": {},
          "execution_count": 134
        }
      ]
    },
    {
      "cell_type": "markdown",
      "source": [
        "# Train and evaluate by state"
      ],
      "metadata": {
        "id": "wIkWonW80AX6"
      }
    },
    {
      "cell_type": "code",
      "source": [
        "# create output feature\n",
        "output_feature = 'SmallBig'\n",
        "Fires['SmallBig'] = np.nan\n",
        "small = ['A']\n",
        "big = ['B','C','D','E','F','G']\n",
        "Fires.loc[Fires['FIRE_SIZE_CLASS'].isin(small), 'SmallBig'] = 0\n",
        "Fires.loc[Fires['FIRE_SIZE_CLASS'].isin(big), 'SmallBig'] = 1\n",
        "\n",
        "# remove fill value\n",
        "FiresNew = Fires[Fires['aet'] != 32768.].copy()\n",
        "\n",
        "# select features\n",
        "input_features = ['LATITUDE','LONGITUDE',\\\n",
        "                  'DISCOVERY_MONTH', 'aet', 'pet', 'soil',\\\n",
        "                  'def', 'ppt', 'q',  'vap', 'ws', 'vpd', 'swe'] \n",
        "# PDSI, tmax, tmin, srad, 'DAYS_TO_CONT',\n",
        "\n",
        "\n",
        "states = list(Fires['STATE'].unique())\n",
        "\n",
        "# model list\n",
        "models = [LogisticRegression, KNeighborsClassifier, \\\n",
        "          AdaBoostClassifier, RandomForestClassifier, \\\n",
        "          GradientBoostingClassifier, DecisionTreeClassifier] # SVC\n",
        "\n",
        "# train models\n",
        "for state in states:\n",
        "  print(state)\n",
        "\n",
        "  # split into train and test by state\n",
        "  FiresByState = Fires[Fires['STATE'] == state].copy()\n",
        "  X_train = FiresByState[FiresByState['FIRE_YEAR'] < 2018][input_features].copy()\n",
        "  y_train = FiresByState[FiresByState['FIRE_YEAR'] < 2018][output_feature].copy()\n",
        "  X_test = FiresByState[FiresByState['FIRE_YEAR'] == 2018][input_features].copy()\n",
        "  y_test = FiresByState[FiresByState['FIRE_YEAR'] == 2018][output_feature].copy()\n",
        "  \n",
        "  # train and evaluate by model\n",
        "  for model in models:\n",
        "    # set timer\n",
        "    start = time.time()\n",
        "\n",
        "    # train model\n",
        "    clf = model().fit(X_train,y_train)\n",
        "\n",
        "    # make predictions\n",
        "    y_pred = clf.predict(X_test)\n",
        "\n",
        "    # evaluate prediction\n",
        "    f1 = f1_score(y_test,y_pred)\n",
        "    \n",
        "    # store results\n",
        "    row = {'model_type':str(model),'model_obj':clf,'f1':f1,\\\n",
        "           'trained_by':state,'eval_by':'state'}\n",
        "\n",
        "    row_df = pd.DataFrame([row],columns=row.keys())\n",
        "    ModelsExperiments = pd.concat([ModelsExperiments,row_df])\n",
        "\n",
        "    # print results to output\n",
        "    print(str(model), 'f1-score: ',f1) \n",
        "    end = time.time()\n",
        "    print('time to predict and evaluate ',str(model),' =',str(end-start))\n",
        "    print()"
      ],
      "metadata": {
        "id": "uCuuuhwuz_5z",
        "colab": {
          "base_uri": "https://localhost:8080/"
        },
        "outputId": "f3bda537-259e-43c3-a72a-526c209b19d6"
      },
      "execution_count": null,
      "outputs": [
        {
          "output_type": "stream",
          "name": "stdout",
          "text": [
            "CA\n",
            "<class 'sklearn.linear_model._logistic.LogisticRegression'> f1-score:  0.0\n",
            "time to predict and evaluate  <class 'sklearn.linear_model._logistic.LogisticRegression'>  = 0.08652448654174805\n",
            "\n",
            "<class 'sklearn.neighbors._classification.KNeighborsClassifier'> f1-score:  0.37635615413393186\n",
            "time to predict and evaluate  <class 'sklearn.neighbors._classification.KNeighborsClassifier'>  = 0.45480775833129883\n",
            "\n",
            "<class 'sklearn.ensemble._weight_boosting.AdaBoostClassifier'> f1-score:  0.10142815505683475\n",
            "time to predict and evaluate  <class 'sklearn.ensemble._weight_boosting.AdaBoostClassifier'>  = 1.1156527996063232\n",
            "\n",
            "<class 'sklearn.ensemble._forest.RandomForestClassifier'> f1-score:  0.37630792227204785\n",
            "time to predict and evaluate  <class 'sklearn.ensemble._forest.RandomForestClassifier'>  = 4.382535696029663\n",
            "\n",
            "<class 'sklearn.ensemble._gb.GradientBoostingClassifier'> f1-score:  0.08747753145596165\n",
            "time to predict and evaluate  <class 'sklearn.ensemble._gb.GradientBoostingClassifier'>  = 2.726970911026001\n",
            "\n",
            "<class 'sklearn.tree._classes.DecisionTreeClassifier'> f1-score:  0.40618828176431865\n",
            "time to predict and evaluate  <class 'sklearn.tree._classes.DecisionTreeClassifier'>  = 0.14106321334838867\n",
            "\n",
            "TX\n"
          ]
        },
        {
          "output_type": "stream",
          "name": "stderr",
          "text": [
            "/usr/local/lib/python3.7/dist-packages/sklearn/linear_model/_logistic.py:818: ConvergenceWarning: lbfgs failed to converge (status=1):\n",
            "STOP: TOTAL NO. of ITERATIONS REACHED LIMIT.\n",
            "\n",
            "Increase the number of iterations (max_iter) or scale the data as shown in:\n",
            "    https://scikit-learn.org/stable/modules/preprocessing.html\n",
            "Please also refer to the documentation for alternative solver options:\n",
            "    https://scikit-learn.org/stable/modules/linear_model.html#logistic-regression\n",
            "  extra_warning_msg=_LOGISTIC_SOLVER_CONVERGENCE_MSG,\n"
          ]
        },
        {
          "output_type": "stream",
          "name": "stdout",
          "text": [
            "<class 'sklearn.linear_model._logistic.LogisticRegression'> f1-score:  0.8997297889432557\n",
            "time to predict and evaluate  <class 'sklearn.linear_model._logistic.LogisticRegression'>  = 0.5396332740783691\n",
            "\n",
            "<class 'sklearn.neighbors._classification.KNeighborsClassifier'> f1-score:  0.8694625855692816\n",
            "time to predict and evaluate  <class 'sklearn.neighbors._classification.KNeighborsClassifier'>  = 0.44849324226379395\n",
            "\n",
            "<class 'sklearn.ensemble._weight_boosting.AdaBoostClassifier'> f1-score:  0.8975077422209115\n",
            "time to predict and evaluate  <class 'sklearn.ensemble._weight_boosting.AdaBoostClassifier'>  = 1.317218542098999\n",
            "\n",
            "<class 'sklearn.ensemble._forest.RandomForestClassifier'> f1-score:  0.9017306245297215\n",
            "time to predict and evaluate  <class 'sklearn.ensemble._forest.RandomForestClassifier'>  = 3.538241386413574\n",
            "\n",
            "<class 'sklearn.ensemble._gb.GradientBoostingClassifier'> f1-score:  0.8977914740626606\n",
            "time to predict and evaluate  <class 'sklearn.ensemble._gb.GradientBoostingClassifier'>  = 4.9564478397369385\n",
            "\n",
            "<class 'sklearn.tree._classes.DecisionTreeClassifier'> f1-score:  0.8304326205867728\n",
            "time to predict and evaluate  <class 'sklearn.tree._classes.DecisionTreeClassifier'>  = 0.2254774570465088\n",
            "\n",
            "AZ\n"
          ]
        },
        {
          "output_type": "stream",
          "name": "stderr",
          "text": [
            "/usr/local/lib/python3.7/dist-packages/sklearn/linear_model/_logistic.py:818: ConvergenceWarning: lbfgs failed to converge (status=1):\n",
            "STOP: TOTAL NO. of ITERATIONS REACHED LIMIT.\n",
            "\n",
            "Increase the number of iterations (max_iter) or scale the data as shown in:\n",
            "    https://scikit-learn.org/stable/modules/preprocessing.html\n",
            "Please also refer to the documentation for alternative solver options:\n",
            "    https://scikit-learn.org/stable/modules/linear_model.html#logistic-regression\n",
            "  extra_warning_msg=_LOGISTIC_SOLVER_CONVERGENCE_MSG,\n"
          ]
        },
        {
          "output_type": "stream",
          "name": "stdout",
          "text": [
            "<class 'sklearn.linear_model._logistic.LogisticRegression'> f1-score:  0.002190580503833516\n",
            "time to predict and evaluate  <class 'sklearn.linear_model._logistic.LogisticRegression'>  = 0.2354888916015625\n",
            "\n",
            "<class 'sklearn.neighbors._classification.KNeighborsClassifier'> f1-score:  0.2531860662701784\n",
            "time to predict and evaluate  <class 'sklearn.neighbors._classification.KNeighborsClassifier'>  = 0.4928908348083496\n",
            "\n",
            "<class 'sklearn.ensemble._weight_boosting.AdaBoostClassifier'> f1-score:  0.22152886115444617\n",
            "time to predict and evaluate  <class 'sklearn.ensemble._weight_boosting.AdaBoostClassifier'>  = 0.6135106086730957\n",
            "\n",
            "<class 'sklearn.ensemble._forest.RandomForestClassifier'> f1-score:  0.32156862745098036\n",
            "time to predict and evaluate  <class 'sklearn.ensemble._forest.RandomForestClassifier'>  = 1.4207258224487305\n",
            "\n",
            "<class 'sklearn.ensemble._gb.GradientBoostingClassifier'> f1-score:  0.2490149724192277\n",
            "time to predict and evaluate  <class 'sklearn.ensemble._gb.GradientBoostingClassifier'>  = 1.5263240337371826\n",
            "\n",
            "<class 'sklearn.tree._classes.DecisionTreeClassifier'> f1-score:  0.2523076923076923\n",
            "time to predict and evaluate  <class 'sklearn.tree._classes.DecisionTreeClassifier'>  = 0.0789191722869873\n",
            "\n",
            "CO\n"
          ]
        },
        {
          "output_type": "stream",
          "name": "stderr",
          "text": [
            "/usr/local/lib/python3.7/dist-packages/sklearn/linear_model/_logistic.py:818: ConvergenceWarning: lbfgs failed to converge (status=1):\n",
            "STOP: TOTAL NO. of ITERATIONS REACHED LIMIT.\n",
            "\n",
            "Increase the number of iterations (max_iter) or scale the data as shown in:\n",
            "    https://scikit-learn.org/stable/modules/preprocessing.html\n",
            "Please also refer to the documentation for alternative solver options:\n",
            "    https://scikit-learn.org/stable/modules/linear_model.html#logistic-regression\n",
            "  extra_warning_msg=_LOGISTIC_SOLVER_CONVERGENCE_MSG,\n"
          ]
        },
        {
          "output_type": "stream",
          "name": "stdout",
          "text": [
            "<class 'sklearn.linear_model._logistic.LogisticRegression'> f1-score:  0.0\n",
            "time to predict and evaluate  <class 'sklearn.linear_model._logistic.LogisticRegression'>  = 0.33594560623168945\n",
            "\n",
            "<class 'sklearn.neighbors._classification.KNeighborsClassifier'> f1-score:  0.12862318840579712\n",
            "time to predict and evaluate  <class 'sklearn.neighbors._classification.KNeighborsClassifier'>  = 0.31773877143859863\n",
            "\n",
            "<class 'sklearn.ensemble._weight_boosting.AdaBoostClassifier'> f1-score:  0.05399568034557235\n",
            "time to predict and evaluate  <class 'sklearn.ensemble._weight_boosting.AdaBoostClassifier'>  = 0.7640693187713623\n",
            "\n",
            "<class 'sklearn.ensemble._forest.RandomForestClassifier'> f1-score:  0.1227364185110664\n",
            "time to predict and evaluate  <class 'sklearn.ensemble._forest.RandomForestClassifier'>  = 1.9563796520233154\n",
            "\n",
            "<class 'sklearn.ensemble._gb.GradientBoostingClassifier'> f1-score:  0.10071942446043165\n",
            "time to predict and evaluate  <class 'sklearn.ensemble._gb.GradientBoostingClassifier'>  = 2.1759626865386963\n",
            "\n",
            "<class 'sklearn.tree._classes.DecisionTreeClassifier'> f1-score:  0.29649309245483524\n",
            "time to predict and evaluate  <class 'sklearn.tree._classes.DecisionTreeClassifier'>  = 0.11809968948364258\n",
            "\n",
            "NY\n",
            "<class 'sklearn.linear_model._logistic.LogisticRegression'> f1-score:  0.04878048780487805\n",
            "time to predict and evaluate  <class 'sklearn.linear_model._logistic.LogisticRegression'>  = 0.3443751335144043\n",
            "\n",
            "<class 'sklearn.neighbors._classification.KNeighborsClassifier'> f1-score:  0.35431918008784774\n",
            "time to predict and evaluate  <class 'sklearn.neighbors._classification.KNeighborsClassifier'>  = 0.21747112274169922\n",
            "\n",
            "<class 'sklearn.ensemble._weight_boosting.AdaBoostClassifier'> f1-score:  0.32295081967213113\n",
            "time to predict and evaluate  <class 'sklearn.ensemble._weight_boosting.AdaBoostClassifier'>  = 0.7848415374755859\n",
            "\n",
            "<class 'sklearn.ensemble._forest.RandomForestClassifier'> f1-score:  0.20495495495495497\n",
            "time to predict and evaluate  <class 'sklearn.ensemble._forest.RandomForestClassifier'>  = 2.05614972114563\n",
            "\n",
            "<class 'sklearn.ensemble._gb.GradientBoostingClassifier'> f1-score:  0.0485021398002853\n",
            "time to predict and evaluate  <class 'sklearn.ensemble._gb.GradientBoostingClassifier'>  = 2.444021224975586\n",
            "\n",
            "<class 'sklearn.tree._classes.DecisionTreeClassifier'> f1-score:  0.38221153846153844\n",
            "time to predict and evaluate  <class 'sklearn.tree._classes.DecisionTreeClassifier'>  = 0.09929847717285156\n",
            "\n",
            "KS\n"
          ]
        },
        {
          "output_type": "stream",
          "name": "stderr",
          "text": [
            "/usr/local/lib/python3.7/dist-packages/sklearn/linear_model/_logistic.py:818: ConvergenceWarning: lbfgs failed to converge (status=1):\n",
            "STOP: TOTAL NO. of ITERATIONS REACHED LIMIT.\n",
            "\n",
            "Increase the number of iterations (max_iter) or scale the data as shown in:\n",
            "    https://scikit-learn.org/stable/modules/preprocessing.html\n",
            "Please also refer to the documentation for alternative solver options:\n",
            "    https://scikit-learn.org/stable/modules/linear_model.html#logistic-regression\n",
            "  extra_warning_msg=_LOGISTIC_SOLVER_CONVERGENCE_MSG,\n"
          ]
        },
        {
          "output_type": "stream",
          "name": "stdout",
          "text": [
            "<class 'sklearn.linear_model._logistic.LogisticRegression'> f1-score:  0.603182256509161\n",
            "time to predict and evaluate  <class 'sklearn.linear_model._logistic.LogisticRegression'>  = 0.26933789253234863\n",
            "\n",
            "<class 'sklearn.neighbors._classification.KNeighborsClassifier'> f1-score:  0.6109271523178809\n",
            "time to predict and evaluate  <class 'sklearn.neighbors._classification.KNeighborsClassifier'>  = 0.25667524337768555\n",
            "\n",
            "<class 'sklearn.ensemble._weight_boosting.AdaBoostClassifier'> f1-score:  0.611140867702196\n",
            "time to predict and evaluate  <class 'sklearn.ensemble._weight_boosting.AdaBoostClassifier'>  = 0.610098123550415\n",
            "\n",
            "<class 'sklearn.ensemble._forest.RandomForestClassifier'> f1-score:  0.6936148300720906\n",
            "time to predict and evaluate  <class 'sklearn.ensemble._forest.RandomForestClassifier'>  = 1.5961530208587646\n",
            "\n",
            "<class 'sklearn.ensemble._gb.GradientBoostingClassifier'> f1-score:  0.6763787721123828\n",
            "time to predict and evaluate  <class 'sklearn.ensemble._gb.GradientBoostingClassifier'>  = 1.6074132919311523\n",
            "\n",
            "<class 'sklearn.tree._classes.DecisionTreeClassifier'> f1-score:  0.6168741355463347\n",
            "time to predict and evaluate  <class 'sklearn.tree._classes.DecisionTreeClassifier'>  = 0.0798039436340332\n",
            "\n",
            "NC\n"
          ]
        },
        {
          "output_type": "stream",
          "name": "stderr",
          "text": [
            "/usr/local/lib/python3.7/dist-packages/sklearn/linear_model/_logistic.py:818: ConvergenceWarning: lbfgs failed to converge (status=1):\n",
            "STOP: TOTAL NO. of ITERATIONS REACHED LIMIT.\n",
            "\n",
            "Increase the number of iterations (max_iter) or scale the data as shown in:\n",
            "    https://scikit-learn.org/stable/modules/preprocessing.html\n",
            "Please also refer to the documentation for alternative solver options:\n",
            "    https://scikit-learn.org/stable/modules/linear_model.html#logistic-regression\n",
            "  extra_warning_msg=_LOGISTIC_SOLVER_CONVERGENCE_MSG,\n"
          ]
        },
        {
          "output_type": "stream",
          "name": "stdout",
          "text": [
            "<class 'sklearn.linear_model._logistic.LogisticRegression'> f1-score:  0.3763440860215054\n",
            "time to predict and evaluate  <class 'sklearn.linear_model._logistic.LogisticRegression'>  = 0.25385451316833496\n",
            "\n",
            "<class 'sklearn.neighbors._classification.KNeighborsClassifier'> f1-score:  0.5928481806775407\n",
            "time to predict and evaluate  <class 'sklearn.neighbors._classification.KNeighborsClassifier'>  = 0.22435498237609863\n",
            "\n",
            "<class 'sklearn.ensemble._weight_boosting.AdaBoostClassifier'> f1-score:  0.6288182659672941\n",
            "time to predict and evaluate  <class 'sklearn.ensemble._weight_boosting.AdaBoostClassifier'>  = 0.6583006381988525\n",
            "\n",
            "<class 'sklearn.ensemble._forest.RandomForestClassifier'> f1-score:  0.6001362397820164\n",
            "time to predict and evaluate  <class 'sklearn.ensemble._forest.RandomForestClassifier'>  = 1.7723588943481445\n",
            "\n",
            "<class 'sklearn.ensemble._gb.GradientBoostingClassifier'> f1-score:  0.6314503816793894\n",
            "time to predict and evaluate  <class 'sklearn.ensemble._gb.GradientBoostingClassifier'>  = 1.919712781906128\n",
            "\n",
            "<class 'sklearn.tree._classes.DecisionTreeClassifier'> f1-score:  0.5429487179487181\n",
            "time to predict and evaluate  <class 'sklearn.tree._classes.DecisionTreeClassifier'>  = 0.10217118263244629\n",
            "\n",
            "GA\n"
          ]
        },
        {
          "output_type": "stream",
          "name": "stderr",
          "text": [
            "/usr/local/lib/python3.7/dist-packages/sklearn/linear_model/_logistic.py:818: ConvergenceWarning: lbfgs failed to converge (status=1):\n",
            "STOP: TOTAL NO. of ITERATIONS REACHED LIMIT.\n",
            "\n",
            "Increase the number of iterations (max_iter) or scale the data as shown in:\n",
            "    https://scikit-learn.org/stable/modules/preprocessing.html\n",
            "Please also refer to the documentation for alternative solver options:\n",
            "    https://scikit-learn.org/stable/modules/linear_model.html#logistic-regression\n",
            "  extra_warning_msg=_LOGISTIC_SOLVER_CONVERGENCE_MSG,\n"
          ]
        },
        {
          "output_type": "stream",
          "name": "stdout",
          "text": [
            "<class 'sklearn.linear_model._logistic.LogisticRegression'> f1-score:  0.8648291069459757\n",
            "time to predict and evaluate  <class 'sklearn.linear_model._logistic.LogisticRegression'>  = 0.28896379470825195\n",
            "\n",
            "<class 'sklearn.neighbors._classification.KNeighborsClassifier'> f1-score:  0.8042043510144219\n",
            "time to predict and evaluate  <class 'sklearn.neighbors._classification.KNeighborsClassifier'>  = 0.19230103492736816\n",
            "\n",
            "<class 'sklearn.ensemble._weight_boosting.AdaBoostClassifier'> f1-score:  0.8476607513251901\n",
            "time to predict and evaluate  <class 'sklearn.ensemble._weight_boosting.AdaBoostClassifier'>  = 0.6143810749053955\n",
            "\n",
            "<class 'sklearn.ensemble._forest.RandomForestClassifier'> f1-score:  0.8528735632183908\n",
            "time to predict and evaluate  <class 'sklearn.ensemble._forest.RandomForestClassifier'>  = 1.6489343643188477\n",
            "\n",
            "<class 'sklearn.ensemble._gb.GradientBoostingClassifier'> f1-score:  0.8556442417331813\n",
            "time to predict and evaluate  <class 'sklearn.ensemble._gb.GradientBoostingClassifier'>  = 1.7239551544189453\n",
            "\n",
            "<class 'sklearn.tree._classes.DecisionTreeClassifier'> f1-score:  0.7643279362631715\n",
            "time to predict and evaluate  <class 'sklearn.tree._classes.DecisionTreeClassifier'>  = 0.09451794624328613\n",
            "\n",
            "FL\n"
          ]
        },
        {
          "output_type": "stream",
          "name": "stderr",
          "text": [
            "/usr/local/lib/python3.7/dist-packages/sklearn/linear_model/_logistic.py:818: ConvergenceWarning: lbfgs failed to converge (status=1):\n",
            "STOP: TOTAL NO. of ITERATIONS REACHED LIMIT.\n",
            "\n",
            "Increase the number of iterations (max_iter) or scale the data as shown in:\n",
            "    https://scikit-learn.org/stable/modules/preprocessing.html\n",
            "Please also refer to the documentation for alternative solver options:\n",
            "    https://scikit-learn.org/stable/modules/linear_model.html#logistic-regression\n",
            "  extra_warning_msg=_LOGISTIC_SOLVER_CONVERGENCE_MSG,\n"
          ]
        },
        {
          "output_type": "stream",
          "name": "stdout",
          "text": [
            "<class 'sklearn.linear_model._logistic.LogisticRegression'> f1-score:  0.8754409769335142\n",
            "time to predict and evaluate  <class 'sklearn.linear_model._logistic.LogisticRegression'>  = 0.22142457962036133\n",
            "\n",
            "<class 'sklearn.neighbors._classification.KNeighborsClassifier'> f1-score:  0.8646239554317551\n",
            "time to predict and evaluate  <class 'sklearn.neighbors._classification.KNeighborsClassifier'>  = 0.146803617477417\n",
            "\n",
            "<class 'sklearn.ensemble._weight_boosting.AdaBoostClassifier'> f1-score:  0.8632454923717059\n",
            "time to predict and evaluate  <class 'sklearn.ensemble._weight_boosting.AdaBoostClassifier'>  = 0.5102908611297607\n",
            "\n",
            "<class 'sklearn.ensemble._forest.RandomForestClassifier'> f1-score:  0.8753056234718828\n",
            "time to predict and evaluate  <class 'sklearn.ensemble._forest.RandomForestClassifier'>  = 1.017094612121582\n",
            "\n",
            "<class 'sklearn.ensemble._gb.GradientBoostingClassifier'> f1-score:  0.875067897881586\n",
            "time to predict and evaluate  <class 'sklearn.ensemble._gb.GradientBoostingClassifier'>  = 1.365556240081787\n",
            "\n",
            "<class 'sklearn.tree._classes.DecisionTreeClassifier'> f1-score:  0.8490512602662136\n",
            "time to predict and evaluate  <class 'sklearn.tree._classes.DecisionTreeClassifier'>  = 0.0524904727935791\n",
            "\n",
            "OR\n",
            "<class 'sklearn.linear_model._logistic.LogisticRegression'> f1-score:  0.0\n",
            "time to predict and evaluate  <class 'sklearn.linear_model._logistic.LogisticRegression'>  = 0.035346031188964844\n",
            "\n",
            "<class 'sklearn.neighbors._classification.KNeighborsClassifier'> f1-score:  0.3834296724470134\n",
            "time to predict and evaluate  <class 'sklearn.neighbors._classification.KNeighborsClassifier'>  = 0.1324474811553955\n",
            "\n",
            "<class 'sklearn.ensemble._weight_boosting.AdaBoostClassifier'> f1-score:  0.17358490566037738\n",
            "time to predict and evaluate  <class 'sklearn.ensemble._weight_boosting.AdaBoostClassifier'>  = 0.3695409297943115\n",
            "\n",
            "<class 'sklearn.ensemble._forest.RandomForestClassifier'> f1-score:  0.384395813510942\n",
            "time to predict and evaluate  <class 'sklearn.ensemble._forest.RandomForestClassifier'>  = 1.0463201999664307\n",
            "\n",
            "<class 'sklearn.ensemble._gb.GradientBoostingClassifier'> f1-score:  0.27060270602706027\n",
            "time to predict and evaluate  <class 'sklearn.ensemble._gb.GradientBoostingClassifier'>  = 0.7520780563354492\n",
            "\n",
            "<class 'sklearn.tree._classes.DecisionTreeClassifier'> f1-score:  0.4187153053132434\n",
            "time to predict and evaluate  <class 'sklearn.tree._classes.DecisionTreeClassifier'>  = 0.038132667541503906\n",
            "\n",
            "MT\n"
          ]
        },
        {
          "output_type": "stream",
          "name": "stderr",
          "text": [
            "/usr/local/lib/python3.7/dist-packages/sklearn/linear_model/_logistic.py:818: ConvergenceWarning: lbfgs failed to converge (status=1):\n",
            "STOP: TOTAL NO. of ITERATIONS REACHED LIMIT.\n",
            "\n",
            "Increase the number of iterations (max_iter) or scale the data as shown in:\n",
            "    https://scikit-learn.org/stable/modules/preprocessing.html\n",
            "Please also refer to the documentation for alternative solver options:\n",
            "    https://scikit-learn.org/stable/modules/linear_model.html#logistic-regression\n",
            "  extra_warning_msg=_LOGISTIC_SOLVER_CONVERGENCE_MSG,\n"
          ]
        },
        {
          "output_type": "stream",
          "name": "stdout",
          "text": [
            "<class 'sklearn.linear_model._logistic.LogisticRegression'> f1-score:  0.5468861846814603\n",
            "time to predict and evaluate  <class 'sklearn.linear_model._logistic.LogisticRegression'>  = 0.20089435577392578\n",
            "\n",
            "<class 'sklearn.neighbors._classification.KNeighborsClassifier'> f1-score:  0.49688581314878894\n",
            "time to predict and evaluate  <class 'sklearn.neighbors._classification.KNeighborsClassifier'>  = 0.14334416389465332\n",
            "\n",
            "<class 'sklearn.ensemble._weight_boosting.AdaBoostClassifier'> f1-score:  0.609129814550642\n",
            "time to predict and evaluate  <class 'sklearn.ensemble._weight_boosting.AdaBoostClassifier'>  = 0.41354918479919434\n",
            "\n",
            "<class 'sklearn.ensemble._forest.RandomForestClassifier'> f1-score:  0.6358208955223881\n",
            "time to predict and evaluate  <class 'sklearn.ensemble._forest.RandomForestClassifier'>  = 0.9805760383605957\n",
            "\n",
            "<class 'sklearn.ensemble._gb.GradientBoostingClassifier'> f1-score:  0.6103993971363979\n",
            "time to predict and evaluate  <class 'sklearn.ensemble._gb.GradientBoostingClassifier'>  = 1.046692132949829\n",
            "\n",
            "<class 'sklearn.tree._classes.DecisionTreeClassifier'> f1-score:  0.5854287556415216\n",
            "time to predict and evaluate  <class 'sklearn.tree._classes.DecisionTreeClassifier'>  = 0.048492431640625\n",
            "\n",
            "AL\n"
          ]
        },
        {
          "output_type": "stream",
          "name": "stderr",
          "text": [
            "/usr/local/lib/python3.7/dist-packages/sklearn/linear_model/_logistic.py:818: ConvergenceWarning: lbfgs failed to converge (status=1):\n",
            "STOP: TOTAL NO. of ITERATIONS REACHED LIMIT.\n",
            "\n",
            "Increase the number of iterations (max_iter) or scale the data as shown in:\n",
            "    https://scikit-learn.org/stable/modules/preprocessing.html\n",
            "Please also refer to the documentation for alternative solver options:\n",
            "    https://scikit-learn.org/stable/modules/linear_model.html#logistic-regression\n",
            "  extra_warning_msg=_LOGISTIC_SOLVER_CONVERGENCE_MSG,\n"
          ]
        },
        {
          "output_type": "stream",
          "name": "stdout",
          "text": [
            "<class 'sklearn.linear_model._logistic.LogisticRegression'> f1-score:  0.9454756380510441\n",
            "time to predict and evaluate  <class 'sklearn.linear_model._logistic.LogisticRegression'>  = 0.17505884170532227\n",
            "\n",
            "<class 'sklearn.neighbors._classification.KNeighborsClassifier'> f1-score:  0.881948782011243\n",
            "time to predict and evaluate  <class 'sklearn.neighbors._classification.KNeighborsClassifier'>  = 0.08833670616149902\n",
            "\n",
            "<class 'sklearn.ensemble._weight_boosting.AdaBoostClassifier'> f1-score:  0.9328621908127209\n",
            "time to predict and evaluate  <class 'sklearn.ensemble._weight_boosting.AdaBoostClassifier'>  = 0.42939090728759766\n",
            "\n",
            "<class 'sklearn.ensemble._forest.RandomForestClassifier'> f1-score:  0.934040047114252\n",
            "time to predict and evaluate  <class 'sklearn.ensemble._forest.RandomForestClassifier'>  = 0.9919979572296143\n",
            "\n",
            "<class 'sklearn.ensemble._gb.GradientBoostingClassifier'> f1-score:  0.940901111761264\n",
            "time to predict and evaluate  <class 'sklearn.ensemble._gb.GradientBoostingClassifier'>  = 1.0968668460845947\n",
            "\n",
            "<class 'sklearn.tree._classes.DecisionTreeClassifier'> f1-score:  0.8512289780077619\n",
            "time to predict and evaluate  <class 'sklearn.tree._classes.DecisionTreeClassifier'>  = 0.05254340171813965\n",
            "\n"
          ]
        }
      ]
    },
    {
      "cell_type": "code",
      "source": [
        "type(ModelsExperiments['model_type'].unique()[-1])"
      ],
      "metadata": {
        "colab": {
          "base_uri": "https://localhost:8080/"
        },
        "id": "_yPcNQVYqTeB",
        "outputId": "49073d17-43a5-4c16-fb11-e806eba06f17"
      },
      "execution_count": null,
      "outputs": [
        {
          "output_type": "execute_result",
          "data": {
            "text/plain": [
              "str"
            ]
          },
          "metadata": {},
          "execution_count": 136
        }
      ]
    },
    {
      "cell_type": "code",
      "source": [
        "train_eval_state = ModelsExperiments[ModelsExperiments['eval_by']=='state'].groupby(by='trained_by')['f1'].mean().sort_values()\n",
        "train_eval_state"
      ],
      "metadata": {
        "id": "qkMQllxmFXNS",
        "colab": {
          "base_uri": "https://localhost:8080/"
        },
        "outputId": "a0b29c50-e11b-47e0-f6a6-0f475823350a"
      },
      "execution_count": null,
      "outputs": [
        {
          "output_type": "execute_result",
          "data": {
            "text/plain": [
              "trained_by\n",
              "CO    0.117095\n",
              "AZ    0.216633\n",
              "CA    0.224626\n",
              "NY    0.226953\n",
              "OR    0.271788\n",
              "NC    0.562091\n",
              "MT    0.580758\n",
              "KS    0.635353\n",
              "GA    0.831590\n",
              "FL    0.867123\n",
              "TX    0.882776\n",
              "AL    0.914409\n",
              "Name: f1, dtype: float64"
            ]
          },
          "metadata": {},
          "execution_count": 137
        }
      ]
    },
    {
      "cell_type": "code",
      "source": [
        "av = ModelsExperiments[(ModelsExperiments['eval_by']=='National') & (ModelsExperiments['trained_by']=='National')]['f1'].mean()\n",
        "plt.plot(train_eval_state)\n",
        "plt.hlines(0.692034193188317,xmin=0,xmax=12)\n",
        "plt.show()"
      ],
      "metadata": {
        "id": "rxEW4E_NFmXy",
        "colab": {
          "base_uri": "https://localhost:8080/",
          "height": 265
        },
        "outputId": "f0ddff12-ee17-463f-f4a8-3c6da771a9c5"
      },
      "execution_count": null,
      "outputs": [
        {
          "output_type": "display_data",
          "data": {
            "text/plain": [
              "<Figure size 432x288 with 1 Axes>"
            ],
            "image/png": "[encoded data removed]"
          },
          "metadata": {
            "needs_background": "light"
          }
        }
      ]
    },
    {
      "cell_type": "markdown",
      "source": [
        "# Evaluate state using national model"
      ],
      "metadata": {
        "id": "QNyXT4iWswFr"
      }
    },
    {
      "cell_type": "code",
      "source": [
        "# create output feature\n",
        "output_feature = 'SmallBig'\n",
        "Fires['SmallBig'] = np.nan\n",
        "small = ['A']\n",
        "big = ['B','C','D','E','F','G']\n",
        "Fires.loc[Fires['FIRE_SIZE_CLASS'].isin(small), 'SmallBig'] = 0\n",
        "Fires.loc[Fires['FIRE_SIZE_CLASS'].isin(big), 'SmallBig'] = 1\n",
        "\n",
        "# remove fill value\n",
        "FiresNew = Fires[Fires['aet'] != 32768.].copy()\n",
        "\n",
        "# select features\n",
        "input_features = ['LATITUDE','LONGITUDE',\\\n",
        "                  'DISCOVERY_MONTH', 'aet', 'pet', 'soil',\\\n",
        "                  'def', 'ppt', 'q',  'vap', 'ws', 'vpd', 'swe'] \n",
        "# PDSI, tmax, tmin, srad, 'DAYS_TO_CONT',\n",
        "\n",
        "states = list(Fires['STATE'].unique())\n",
        "\n",
        "# model list\n",
        "models = [LogisticRegression, KNeighborsClassifier, \\\n",
        "          AdaBoostClassifier, RandomForestClassifier, \\\n",
        "          GradientBoostingClassifier, DecisionTreeClassifier] # SVC\n",
        "\n",
        "# train models\n",
        "for state in states:\n",
        "  print(state)\n",
        "\n",
        "  # split into train and test\n",
        "  FiresByState = Fires[Fires['STATE'] == state].copy()\n",
        "  X_train = FiresByState[FiresByState['FIRE_YEAR'] < 2018][input_features].copy()\n",
        "  y_train = FiresByState[FiresByState['FIRE_YEAR'] < 2018][output_feature].copy()\n",
        "  X_test = FiresByState[FiresByState['FIRE_YEAR'] == 2018][input_features].copy()\n",
        "  y_test = FiresByState[FiresByState['FIRE_YEAR'] == 2018][output_feature].copy()\n",
        "\n",
        "  # evaluate national model on each state\n",
        "  for model in models:\n",
        "    # timer\n",
        "    start = time.time()\n",
        "\n",
        "    # get national model\n",
        "    clf = ModelsExperiments[(ModelsExperiments['model_type']==str(model)) & \\\n",
        "                            (ModelsExperiments['trained_by']=='National') \\\n",
        "                            ]['model_obj'].iloc[0]\n",
        "\n",
        "    # make predictions\n",
        "    y_pred = clf.predict(X_test)\n",
        "\n",
        "    # evaluate predictions\n",
        "    f1 = f1_score(y_test,y_pred)\n",
        "    \n",
        "    # store results in DataFrame\n",
        "    row = {'model_type':str(model),'model_obj':clf,'f1':f1,\\\n",
        "           'trained_by':'National','eval_by':state}\n",
        "\n",
        "    row_df = pd.DataFrame([row],columns=row.keys())\n",
        "    ModelsExperiments = pd.concat([ModelsExperiments,row_df])\n",
        "\n",
        "    # print results to output\n",
        "    print(str(model), 'f1-score: ',f1) \n",
        "    end = time.time()\n",
        "    print('time to train ',str(model),' =',str(end-start))\n",
        "    print()"
      ],
      "metadata": {
        "id": "BlRPKiKxsvvT",
        "colab": {
          "base_uri": "https://localhost:8080/"
        },
        "outputId": "158e4c44-7474-4edd-c77d-f29e42109e18"
      },
      "execution_count": null,
      "outputs": [
        {
          "output_type": "stream",
          "name": "stdout",
          "text": [
            "CA\n",
            "<class 'sklearn.linear_model._logistic.LogisticRegression'> f1-score:  0.4877271278291361\n",
            "time to train  <class 'sklearn.linear_model._logistic.LogisticRegression'>  = 0.02052474021911621\n",
            "\n",
            "<class 'sklearn.neighbors._classification.KNeighborsClassifier'> f1-score:  0.4877659998405994\n",
            "time to train  <class 'sklearn.neighbors._classification.KNeighborsClassifier'>  = 0.43096280097961426\n",
            "\n",
            "<class 'sklearn.ensemble._weight_boosting.AdaBoostClassifier'> f1-score:  0.0\n",
            "time to train  <class 'sklearn.ensemble._weight_boosting.AdaBoostClassifier'>  = 0.10373401641845703\n",
            "\n",
            "<class 'sklearn.ensemble._forest.RandomForestClassifier'> f1-score:  0.2139261744966443\n",
            "time to train  <class 'sklearn.ensemble._forest.RandomForestClassifier'>  = 0.10648703575134277\n",
            "\n",
            "<class 'sklearn.ensemble._gb.GradientBoostingClassifier'> f1-score:  0.10382361149874406\n",
            "time to train  <class 'sklearn.ensemble._gb.GradientBoostingClassifier'>  = 0.02497696876525879\n",
            "\n",
            "<class 'sklearn.tree._classes.DecisionTreeClassifier'> f1-score:  0.27903756274883157\n",
            "time to train  <class 'sklearn.tree._classes.DecisionTreeClassifier'>  = 0.020975112915039062\n",
            "\n",
            "TX\n",
            "<class 'sklearn.linear_model._logistic.LogisticRegression'> f1-score:  0.8092636385876213\n",
            "time to train  <class 'sklearn.linear_model._logistic.LogisticRegression'>  = 0.015029430389404297\n",
            "\n",
            "<class 'sklearn.neighbors._classification.KNeighborsClassifier'> f1-score:  0.8110576124854724\n",
            "time to train  <class 'sklearn.neighbors._classification.KNeighborsClassifier'>  = 0.5060014724731445\n",
            "\n",
            "<class 'sklearn.ensemble._weight_boosting.AdaBoostClassifier'> f1-score:  0.8995690599664012\n",
            "time to train  <class 'sklearn.ensemble._weight_boosting.AdaBoostClassifier'>  = 0.08749055862426758\n",
            "\n",
            "<class 'sklearn.ensemble._forest.RandomForestClassifier'> f1-score:  0.8970632304465088\n",
            "time to train  <class 'sklearn.ensemble._forest.RandomForestClassifier'>  = 0.17719602584838867\n",
            "\n",
            "<class 'sklearn.ensemble._gb.GradientBoostingClassifier'> f1-score:  0.8996494303242769\n",
            "time to train  <class 'sklearn.ensemble._gb.GradientBoostingClassifier'>  = 0.023646116256713867\n",
            "\n",
            "<class 'sklearn.tree._classes.DecisionTreeClassifier'> f1-score:  0.8325143666194721\n",
            "time to train  <class 'sklearn.tree._classes.DecisionTreeClassifier'>  = 0.0154266357421875\n",
            "\n",
            "AZ\n",
            "<class 'sklearn.linear_model._logistic.LogisticRegression'> f1-score:  0.09393773894046968\n",
            "time to train  <class 'sklearn.linear_model._logistic.LogisticRegression'>  = 0.020058870315551758\n",
            "\n",
            "<class 'sklearn.neighbors._classification.KNeighborsClassifier'> f1-score:  0.21809045226130655\n",
            "time to train  <class 'sklearn.neighbors._classification.KNeighborsClassifier'>  = 0.5128335952758789\n",
            "\n",
            "<class 'sklearn.ensemble._weight_boosting.AdaBoostClassifier'> f1-score:  0.19292292777508482\n",
            "time to train  <class 'sklearn.ensemble._weight_boosting.AdaBoostClassifier'>  = 0.11085677146911621\n",
            "\n",
            "<class 'sklearn.ensemble._forest.RandomForestClassifier'> f1-score:  0.31278992710404246\n",
            "time to train  <class 'sklearn.ensemble._forest.RandomForestClassifier'>  = 0.19101738929748535\n",
            "\n",
            "<class 'sklearn.ensemble._gb.GradientBoostingClassifier'> f1-score:  0.07422266800401203\n",
            "time to train  <class 'sklearn.ensemble._gb.GradientBoostingClassifier'>  = 0.03711962699890137\n",
            "\n",
            "<class 'sklearn.tree._classes.DecisionTreeClassifier'> f1-score:  0.25034199726402184\n",
            "time to train  <class 'sklearn.tree._classes.DecisionTreeClassifier'>  = 0.01801156997680664\n",
            "\n",
            "CO\n",
            "<class 'sklearn.linear_model._logistic.LogisticRegression'> f1-score:  0.20606060606060608\n",
            "time to train  <class 'sklearn.linear_model._logistic.LogisticRegression'>  = 0.014317512512207031\n",
            "\n",
            "<class 'sklearn.neighbors._classification.KNeighborsClassifier'> f1-score:  0.13429888084265967\n",
            "time to train  <class 'sklearn.neighbors._classification.KNeighborsClassifier'>  = 0.35425639152526855\n",
            "\n",
            "<class 'sklearn.ensemble._weight_boosting.AdaBoostClassifier'> f1-score:  0.03908794788273616\n",
            "time to train  <class 'sklearn.ensemble._weight_boosting.AdaBoostClassifier'>  = 0.07203912734985352\n",
            "\n",
            "<class 'sklearn.ensemble._forest.RandomForestClassifier'> f1-score:  0.15864022662889518\n",
            "time to train  <class 'sklearn.ensemble._forest.RandomForestClassifier'>  = 0.11528182029724121\n",
            "\n",
            "<class 'sklearn.ensemble._gb.GradientBoostingClassifier'> f1-score:  0.05155746509129967\n",
            "time to train  <class 'sklearn.ensemble._gb.GradientBoostingClassifier'>  = 0.023148536682128906\n",
            "\n",
            "<class 'sklearn.tree._classes.DecisionTreeClassifier'> f1-score:  0.2607184241019699\n",
            "time to train  <class 'sklearn.tree._classes.DecisionTreeClassifier'>  = 0.013179540634155273\n",
            "\n",
            "NY\n",
            "<class 'sklearn.linear_model._logistic.LogisticRegression'> f1-score:  0.052486187845303865\n",
            "time to train  <class 'sklearn.linear_model._logistic.LogisticRegression'>  = 0.011393308639526367\n",
            "\n",
            "<class 'sklearn.neighbors._classification.KNeighborsClassifier'> f1-score:  0.38790035587188615\n",
            "time to train  <class 'sklearn.neighbors._classification.KNeighborsClassifier'>  = 0.2613034248352051\n",
            "\n",
            "<class 'sklearn.ensemble._weight_boosting.AdaBoostClassifier'> f1-score:  0.0030349013657056142\n",
            "time to train  <class 'sklearn.ensemble._weight_boosting.AdaBoostClassifier'>  = 0.05835533142089844\n",
            "\n",
            "<class 'sklearn.ensemble._forest.RandomForestClassifier'> f1-score:  0.341296928327645\n",
            "time to train  <class 'sklearn.ensemble._forest.RandomForestClassifier'>  = 0.06996655464172363\n",
            "\n",
            "<class 'sklearn.ensemble._gb.GradientBoostingClassifier'> f1-score:  0.0\n",
            "time to train  <class 'sklearn.ensemble._gb.GradientBoostingClassifier'>  = 0.01119685173034668\n",
            "\n",
            "<class 'sklearn.tree._classes.DecisionTreeClassifier'> f1-score:  0.32142857142857145\n",
            "time to train  <class 'sklearn.tree._classes.DecisionTreeClassifier'>  = 0.012415170669555664\n",
            "\n",
            "KS\n",
            "<class 'sklearn.linear_model._logistic.LogisticRegression'> f1-score:  0.19552860932171276\n",
            "time to train  <class 'sklearn.linear_model._logistic.LogisticRegression'>  = 0.016018390655517578\n",
            "\n",
            "<class 'sklearn.neighbors._classification.KNeighborsClassifier'> f1-score:  0.5689914701455092\n",
            "time to train  <class 'sklearn.neighbors._classification.KNeighborsClassifier'>  = 0.28705310821533203\n",
            "\n",
            "<class 'sklearn.ensemble._weight_boosting.AdaBoostClassifier'> f1-score:  0.593900481540931\n",
            "time to train  <class 'sklearn.ensemble._weight_boosting.AdaBoostClassifier'>  = 0.056353092193603516\n",
            "\n",
            "<class 'sklearn.ensemble._forest.RandomForestClassifier'> f1-score:  0.6951156812339332\n",
            "time to train  <class 'sklearn.ensemble._forest.RandomForestClassifier'>  = 0.10352873802185059\n",
            "\n",
            "<class 'sklearn.ensemble._gb.GradientBoostingClassifier'> f1-score:  0.6257701580498258\n",
            "time to train  <class 'sklearn.ensemble._gb.GradientBoostingClassifier'>  = 0.01995253562927246\n",
            "\n",
            "<class 'sklearn.tree._classes.DecisionTreeClassifier'> f1-score:  0.6260869565217391\n",
            "time to train  <class 'sklearn.tree._classes.DecisionTreeClassifier'>  = 0.024776697158813477\n",
            "\n",
            "NC\n",
            "<class 'sklearn.linear_model._logistic.LogisticRegression'> f1-score:  0.2710843373493976\n",
            "time to train  <class 'sklearn.linear_model._logistic.LogisticRegression'>  = 0.010898113250732422\n",
            "\n",
            "<class 'sklearn.neighbors._classification.KNeighborsClassifier'> f1-score:  0.5406566431420681\n",
            "time to train  <class 'sklearn.neighbors._classification.KNeighborsClassifier'>  = 0.24361658096313477\n",
            "\n",
            "<class 'sklearn.ensemble._weight_boosting.AdaBoostClassifier'> f1-score:  0.536554354736173\n",
            "time to train  <class 'sklearn.ensemble._weight_boosting.AdaBoostClassifier'>  = 0.045655012130737305\n",
            "\n",
            "<class 'sklearn.ensemble._forest.RandomForestClassifier'> f1-score:  0.6234322422759254\n",
            "time to train  <class 'sklearn.ensemble._forest.RandomForestClassifier'>  = 0.09411478042602539\n",
            "\n",
            "<class 'sklearn.ensemble._gb.GradientBoostingClassifier'> f1-score:  0.5702757229320781\n",
            "time to train  <class 'sklearn.ensemble._gb.GradientBoostingClassifier'>  = 0.017804861068725586\n",
            "\n",
            "<class 'sklearn.tree._classes.DecisionTreeClassifier'> f1-score:  0.580221093516582\n",
            "time to train  <class 'sklearn.tree._classes.DecisionTreeClassifier'>  = 0.010118722915649414\n",
            "\n",
            "GA\n",
            "<class 'sklearn.linear_model._logistic.LogisticRegression'> f1-score:  0.8648291069459757\n",
            "time to train  <class 'sklearn.linear_model._logistic.LogisticRegression'>  = 0.011008739471435547\n",
            "\n",
            "<class 'sklearn.neighbors._classification.KNeighborsClassifier'> f1-score:  0.652224824355972\n",
            "time to train  <class 'sklearn.neighbors._classification.KNeighborsClassifier'>  = 0.17710232734680176\n",
            "\n",
            "<class 'sklearn.ensemble._weight_boosting.AdaBoostClassifier'> f1-score:  0.8645787384208204\n",
            "time to train  <class 'sklearn.ensemble._weight_boosting.AdaBoostClassifier'>  = 0.05894017219543457\n",
            "\n",
            "<class 'sklearn.ensemble._forest.RandomForestClassifier'> f1-score:  0.8537083238829667\n",
            "time to train  <class 'sklearn.ensemble._forest.RandomForestClassifier'>  = 0.07815098762512207\n",
            "\n",
            "<class 'sklearn.ensemble._gb.GradientBoostingClassifier'> f1-score:  0.8648291069459757\n",
            "time to train  <class 'sklearn.ensemble._gb.GradientBoostingClassifier'>  = 0.016619443893432617\n",
            "\n",
            "<class 'sklearn.tree._classes.DecisionTreeClassifier'> f1-score:  0.763888888888889\n",
            "time to train  <class 'sklearn.tree._classes.DecisionTreeClassifier'>  = 0.01021885871887207\n",
            "\n",
            "FL\n",
            "<class 'sklearn.linear_model._logistic.LogisticRegression'> f1-score:  0.8754409769335142\n",
            "time to train  <class 'sklearn.linear_model._logistic.LogisticRegression'>  = 0.008756160736083984\n",
            "\n",
            "<class 'sklearn.neighbors._classification.KNeighborsClassifier'> f1-score:  0.866740699611327\n",
            "time to train  <class 'sklearn.neighbors._classification.KNeighborsClassifier'>  = 0.18818092346191406\n",
            "\n",
            "<class 'sklearn.ensemble._weight_boosting.AdaBoostClassifier'> f1-score:  0.8754409769335142\n",
            "time to train  <class 'sklearn.ensemble._weight_boosting.AdaBoostClassifier'>  = 0.03527402877807617\n",
            "\n",
            "<class 'sklearn.ensemble._forest.RandomForestClassifier'> f1-score:  0.8757138971988033\n",
            "time to train  <class 'sklearn.ensemble._forest.RandomForestClassifier'>  = 0.05661153793334961\n",
            "\n",
            "<class 'sklearn.ensemble._gb.GradientBoostingClassifier'> f1-score:  0.8754409769335142\n",
            "time to train  <class 'sklearn.ensemble._gb.GradientBoostingClassifier'>  = 0.010935068130493164\n",
            "\n",
            "<class 'sklearn.tree._classes.DecisionTreeClassifier'> f1-score:  0.8404624277456647\n",
            "time to train  <class 'sklearn.tree._classes.DecisionTreeClassifier'>  = 0.008619308471679688\n",
            "\n",
            "OR\n",
            "<class 'sklearn.linear_model._logistic.LogisticRegression'> f1-score:  0.49514563106796117\n",
            "time to train  <class 'sklearn.linear_model._logistic.LogisticRegression'>  = 0.008623838424682617\n",
            "\n",
            "<class 'sklearn.neighbors._classification.KNeighborsClassifier'> f1-score:  0.49514563106796117\n",
            "time to train  <class 'sklearn.neighbors._classification.KNeighborsClassifier'>  = 0.12652087211608887\n",
            "\n",
            "<class 'sklearn.ensemble._weight_boosting.AdaBoostClassifier'> f1-score:  0.023703703703703703\n",
            "time to train  <class 'sklearn.ensemble._weight_boosting.AdaBoostClassifier'>  = 0.03872227668762207\n",
            "\n",
            "<class 'sklearn.ensemble._forest.RandomForestClassifier'> f1-score:  0.017673048600883652\n",
            "time to train  <class 'sklearn.ensemble._forest.RandomForestClassifier'>  = 0.05726957321166992\n",
            "\n",
            "<class 'sklearn.ensemble._gb.GradientBoostingClassifier'> f1-score:  0.49514563106796117\n",
            "time to train  <class 'sklearn.ensemble._gb.GradientBoostingClassifier'>  = 0.012487173080444336\n",
            "\n",
            "<class 'sklearn.tree._classes.DecisionTreeClassifier'> f1-score:  0.0653061224489796\n",
            "time to train  <class 'sklearn.tree._classes.DecisionTreeClassifier'>  = 0.012239933013916016\n",
            "\n",
            "MT\n",
            "<class 'sklearn.linear_model._logistic.LogisticRegression'> f1-score:  0.22942206654991243\n",
            "time to train  <class 'sklearn.linear_model._logistic.LogisticRegression'>  = 0.008570194244384766\n",
            "\n",
            "<class 'sklearn.neighbors._classification.KNeighborsClassifier'> f1-score:  0.49688581314878894\n",
            "time to train  <class 'sklearn.neighbors._classification.KNeighborsClassifier'>  = 0.14018535614013672\n",
            "\n",
            "<class 'sklearn.ensemble._weight_boosting.AdaBoostClassifier'> f1-score:  0.5579655946148093\n",
            "time to train  <class 'sklearn.ensemble._weight_boosting.AdaBoostClassifier'>  = 0.03823709487915039\n",
            "\n",
            "<class 'sklearn.ensemble._forest.RandomForestClassifier'> f1-score:  0.6058779201205727\n",
            "time to train  <class 'sklearn.ensemble._forest.RandomForestClassifier'>  = 0.060765981674194336\n",
            "\n",
            "<class 'sklearn.ensemble._gb.GradientBoostingClassifier'> f1-score:  0.46700507614213194\n",
            "time to train  <class 'sklearn.ensemble._gb.GradientBoostingClassifier'>  = 0.014197111129760742\n",
            "\n",
            "<class 'sklearn.tree._classes.DecisionTreeClassifier'> f1-score:  0.55980271270037\n",
            "time to train  <class 'sklearn.tree._classes.DecisionTreeClassifier'>  = 0.011866331100463867\n",
            "\n",
            "AL\n",
            "<class 'sklearn.linear_model._logistic.LogisticRegression'> f1-score:  0.8114754098360656\n",
            "time to train  <class 'sklearn.linear_model._logistic.LogisticRegression'>  = 0.010130882263183594\n",
            "\n",
            "<class 'sklearn.neighbors._classification.KNeighborsClassifier'> f1-score:  0.8316699933466399\n",
            "time to train  <class 'sklearn.neighbors._classification.KNeighborsClassifier'>  = 0.09335803985595703\n",
            "\n",
            "<class 'sklearn.ensemble._weight_boosting.AdaBoostClassifier'> f1-score:  0.9454756380510441\n",
            "time to train  <class 'sklearn.ensemble._weight_boosting.AdaBoostClassifier'>  = 0.031085968017578125\n",
            "\n",
            "<class 'sklearn.ensemble._forest.RandomForestClassifier'> f1-score:  0.9341950646298472\n",
            "time to train  <class 'sklearn.ensemble._forest.RandomForestClassifier'>  = 0.0486140251159668\n",
            "\n",
            "<class 'sklearn.ensemble._gb.GradientBoostingClassifier'> f1-score:  0.9454756380510441\n",
            "time to train  <class 'sklearn.ensemble._gb.GradientBoostingClassifier'>  = 0.010372400283813477\n",
            "\n",
            "<class 'sklearn.tree._classes.DecisionTreeClassifier'> f1-score:  0.8676844783715013\n",
            "time to train  <class 'sklearn.tree._classes.DecisionTreeClassifier'>  = 0.010335206985473633\n",
            "\n"
          ]
        }
      ]
    },
    {
      "cell_type": "code",
      "source": [
        "print(str(ModelsExperiments['model_type'].unique()[0]))\n",
        "print(str(ModelsExperiments['model_type'].unique()[6]))\n",
        "print(str(ModelsExperiments['model_type'].unique()[0])==str(ModelsExperiments['model_type'].unique()[6]))"
      ],
      "metadata": {
        "colab": {
          "base_uri": "https://localhost:8080/"
        },
        "id": "1cVco51JprTj",
        "outputId": "a2a96067-55da-4905-8298-51bd3364f075"
      },
      "execution_count": null,
      "outputs": [
        {
          "output_type": "stream",
          "name": "stdout",
          "text": [
            "LogisticRegression()\n",
            "LogisticRegression()\n",
            "True\n"
          ]
        }
      ]
    },
    {
      "cell_type": "code",
      "source": [
        "eval_by_state_df = ModelsExperiments[(ModelsExperiments['trained_by']=='National') & (ModelsExperiments['eval_by']!='National')].copy()"
      ],
      "metadata": {
        "id": "yHRf0ufDDjuW"
      },
      "execution_count": null,
      "outputs": []
    },
    {
      "cell_type": "code",
      "source": [
        "eval_by_state = eval_by_state_df.groupby(by='eval_by')['f1'].mean().sort_values()"
      ],
      "metadata": {
        "id": "lw4IfqxnE_ew"
      },
      "execution_count": null,
      "outputs": []
    },
    {
      "cell_type": "code",
      "source": [
        "plt.plot(eval_by_state)\n",
        "plt.hlines(0.692034193188317,xmin=0,xmax=11)\n",
        "plt.show()"
      ],
      "metadata": {
        "colab": {
          "base_uri": "https://localhost:8080/",
          "height": 265
        },
        "id": "YtBEg5DUGNwq",
        "outputId": "43ac6543-0b33-4941-e7d3-944649d4f697"
      },
      "execution_count": null,
      "outputs": [
        {
          "output_type": "display_data",
          "data": {
            "text/plain": [
              "<Figure size 432x288 with 1 Axes>"
            ],
            "image/png": "[encoded data removed]"
          },
          "metadata": {
            "needs_background": "light"
          }
        }
      ]
    },
    {
      "cell_type": "markdown",
      "source": [
        "# National and State Models\n",
        "- state models work better on GA, FL, TX, AL\n",
        "- if both models agree, use the agreed value\n",
        "- if they disagree and are not in above states, then use national model's prediction"
      ],
      "metadata": {
        "id": "cjfIr6Cb258F"
      }
    },
    {
      "cell_type": "code",
      "source": [
        "# create output feature\n",
        "output_feature = 'SmallBig'\n",
        "Fires['SmallBig'] = np.nan\n",
        "small = ['A']\n",
        "big = ['B','C','D','E','F','G']\n",
        "Fires.loc[Fires['FIRE_SIZE_CLASS'].isin(small), 'SmallBig'] = 0\n",
        "Fires.loc[Fires['FIRE_SIZE_CLASS'].isin(big), 'SmallBig'] = 1\n",
        "\n",
        "# remove fill value\n",
        "FiresNew = Fires[Fires['aet'] != 32768.].copy()\n",
        "\n",
        "# select features\n",
        "input_features = ['LATITUDE','LONGITUDE',\\\n",
        "                  'DISCOVERY_MONTH','aet', 'pet', 'soil',\\\n",
        "                  'def', 'ppt', 'q',  'vap', 'ws', 'vpd', 'swe'] \n",
        "# PDSI, tmax, tmin, srad, 'DAYS_TO_CONT', \n",
        "\n",
        "# keep track of experiments\n",
        "#StateModelsExperiments = pd.DataFrame(columns=['state','type','f1','size','model'])\n",
        "\n",
        "def combine_pred(npred,spred,state):\n",
        "  if state in ['GA','FL','TX','AL']:\n",
        "    # if npred and spred agree, keep value\n",
        "    # if they disagree, use spred value\n",
        "    y_pred = np.empty(len(npred))\n",
        "    for i in range(len(npred)):\n",
        "      if npred[i] == spred[i]:\n",
        "        y_pred[i] == spred[i]\n",
        "      else:\n",
        "        y_pred[i] == spred[i]\n",
        "    return y_pred\n",
        "  else:\n",
        "    # if npred and spred agree, keep value\n",
        "    # if they disagree, use npred value\n",
        "    y_pred = np.empty(len(npred))\n",
        "    for i in range(len(npred)):\n",
        "      if npred[i] == spred[i]:\n",
        "        y_pred[i] == npred[i]\n",
        "      else:\n",
        "        y_pred[i] == npred[i]\n",
        "    return y_pred\n",
        "\n",
        "\n",
        "states = list(Fires['STATE'].unique())\n",
        "\n",
        "# model list\n",
        "models = [LogisticRegression, KNeighborsClassifier, \\\n",
        "          AdaBoostClassifier, RandomForestClassifier, \\\n",
        "          GradientBoostingClassifier, DecisionTreeClassifier] # SVC\n",
        "\n",
        "# train models\n",
        "for state in states:\n",
        "  print(state)\n",
        "\n",
        "  # split into train and test\n",
        "  FiresByState = Fires[Fires['STATE'] == state].copy()\n",
        "  X_train = FiresByState[FiresByState['FIRE_YEAR'] < 2018][input_features].copy()\n",
        "  y_train = FiresByState[FiresByState['FIRE_YEAR'] < 2018][output_feature].copy()\n",
        "  X_test = FiresByState[FiresByState['FIRE_YEAR'] == 2018][input_features].copy()\n",
        "  y_test = FiresByState[FiresByState['FIRE_YEAR'] == 2018][output_feature].copy()\n",
        "\n",
        "  # predict using national and state - whichever is better for the state\n",
        "  for model in models:\n",
        "    # timer\n",
        "    start = time.time()\n",
        "\n",
        "    if state in ['GA','TX','AL','FL']:\n",
        "      # use state classifier\n",
        "      clf = ModelsExperiments[(ModelsExperiments['model_type']==model) & \\\n",
        "                              (ModelsExperiments['trained_by']==state)]['model_obj'].iloc[0]\n",
        "    else:\n",
        "      # use national classifier\n",
        "      clf = ModelsExperiments[(ModelsExperiments['model_type']==model) & \\\n",
        "                              (ModelsExperiments['trained_by']=='National') & \\\n",
        "                              (ModelsExperiments['eval_by']=='National')]['model_obj'].iloc[0]\n",
        "    \n",
        "    # make predictions\n",
        "    y_pred = clf.predict(X_test)\n",
        "\n",
        "    # evaluate predictions\n",
        "    f1 = f1_score(y_test,y_pred)\n",
        "    \n",
        "    # store results\n",
        "    row = {'model_type':str(model),'model_obj':clf,'f1':f1,\\\n",
        "           'trained_by':'combo','eval_by':state}\n",
        "    row_df = pd.DataFrame([row],columns=row.keys())\n",
        "    ModelsExperiments = pd.concat([ModelsExperiments,row_df])\n",
        "\n",
        "    # print results to ouput\n",
        "    print(str(model), 'f1-score: ',f1) \n",
        "    end = time.time()\n",
        "    print('time to train ',str(model),' =',str(end-start))\n",
        "    print()"
      ],
      "metadata": {
        "id": "ZuWjC65t281G",
        "colab": {
          "base_uri": "https://localhost:8080/"
        },
        "outputId": "25bdcbf5-79b3-4618-aeaf-159199eb4d65"
      },
      "execution_count": null,
      "outputs": [
        {
          "output_type": "stream",
          "name": "stdout",
          "text": [
            "CA\n",
            "<class 'sklearn.linear_model._logistic.LogisticRegression'> f1-score:  0.4877271278291361\n",
            "time to train  <class 'sklearn.linear_model._logistic.LogisticRegression'>  = 0.015186548233032227\n",
            "\n",
            "<class 'sklearn.neighbors._classification.KNeighborsClassifier'> f1-score:  0.4877659998405994\n",
            "time to train  <class 'sklearn.neighbors._classification.KNeighborsClassifier'>  = 0.42100024223327637\n",
            "\n",
            "<class 'sklearn.ensemble._weight_boosting.AdaBoostClassifier'> f1-score:  0.0\n",
            "time to train  <class 'sklearn.ensemble._weight_boosting.AdaBoostClassifier'>  = 0.10187673568725586\n",
            "\n",
            "<class 'sklearn.ensemble._forest.RandomForestClassifier'> f1-score:  0.2841029256256609\n",
            "time to train  <class 'sklearn.ensemble._forest.RandomForestClassifier'>  = 0.10830831527709961\n",
            "\n",
            "<class 'sklearn.ensemble._gb.GradientBoostingClassifier'> f1-score:  0.10382361149874406\n",
            "time to train  <class 'sklearn.ensemble._gb.GradientBoostingClassifier'>  = 0.026443004608154297\n",
            "\n",
            "<class 'sklearn.tree._classes.DecisionTreeClassifier'> f1-score:  0.25976488433826317\n",
            "time to train  <class 'sklearn.tree._classes.DecisionTreeClassifier'>  = 0.016037464141845703\n",
            "\n",
            "TX\n",
            "<class 'sklearn.linear_model._logistic.LogisticRegression'> f1-score:  0.8997297889432557\n",
            "time to train  <class 'sklearn.linear_model._logistic.LogisticRegression'>  = 0.020388126373291016\n",
            "\n",
            "<class 'sklearn.neighbors._classification.KNeighborsClassifier'> f1-score:  0.8694625855692816\n",
            "time to train  <class 'sklearn.neighbors._classification.KNeighborsClassifier'>  = 0.3918590545654297\n",
            "\n",
            "<class 'sklearn.ensemble._weight_boosting.AdaBoostClassifier'> f1-score:  0.8975077422209115\n",
            "time to train  <class 'sklearn.ensemble._weight_boosting.AdaBoostClassifier'>  = 0.08466935157775879\n",
            "\n",
            "<class 'sklearn.ensemble._forest.RandomForestClassifier'> f1-score:  0.8991615680942668\n",
            "time to train  <class 'sklearn.ensemble._forest.RandomForestClassifier'>  = 0.15815472602844238\n",
            "\n",
            "<class 'sklearn.ensemble._gb.GradientBoostingClassifier'> f1-score:  0.8975788701393984\n",
            "time to train  <class 'sklearn.ensemble._gb.GradientBoostingClassifier'>  = 0.023200035095214844\n",
            "\n",
            "<class 'sklearn.tree._classes.DecisionTreeClassifier'> f1-score:  0.8347566536771412\n",
            "time to train  <class 'sklearn.tree._classes.DecisionTreeClassifier'>  = 0.014531135559082031\n",
            "\n",
            "AZ\n",
            "<class 'sklearn.linear_model._logistic.LogisticRegression'> f1-score:  0.09393773894046968\n",
            "time to train  <class 'sklearn.linear_model._logistic.LogisticRegression'>  = 0.017591238021850586\n",
            "\n",
            "<class 'sklearn.neighbors._classification.KNeighborsClassifier'> f1-score:  0.21809045226130655\n",
            "time to train  <class 'sklearn.neighbors._classification.KNeighborsClassifier'>  = 0.5304961204528809\n",
            "\n",
            "<class 'sklearn.ensemble._weight_boosting.AdaBoostClassifier'> f1-score:  0.19292292777508482\n",
            "time to train  <class 'sklearn.ensemble._weight_boosting.AdaBoostClassifier'>  = 0.0990912914276123\n",
            "\n",
            "<class 'sklearn.ensemble._forest.RandomForestClassifier'> f1-score:  0.31367465975372655\n",
            "time to train  <class 'sklearn.ensemble._forest.RandomForestClassifier'>  = 0.18172454833984375\n",
            "\n",
            "<class 'sklearn.ensemble._gb.GradientBoostingClassifier'> f1-score:  0.07422266800401203\n",
            "time to train  <class 'sklearn.ensemble._gb.GradientBoostingClassifier'>  = 0.024135351181030273\n",
            "\n",
            "<class 'sklearn.tree._classes.DecisionTreeClassifier'> f1-score:  0.25478991596638656\n",
            "time to train  <class 'sklearn.tree._classes.DecisionTreeClassifier'>  = 0.018024682998657227\n",
            "\n",
            "CO\n",
            "<class 'sklearn.linear_model._logistic.LogisticRegression'> f1-score:  0.20606060606060608\n",
            "time to train  <class 'sklearn.linear_model._logistic.LogisticRegression'>  = 0.014817237854003906\n",
            "\n",
            "<class 'sklearn.neighbors._classification.KNeighborsClassifier'> f1-score:  0.13429888084265967\n",
            "time to train  <class 'sklearn.neighbors._classification.KNeighborsClassifier'>  = 0.350799560546875\n",
            "\n",
            "<class 'sklearn.ensemble._weight_boosting.AdaBoostClassifier'> f1-score:  0.03908794788273616\n",
            "time to train  <class 'sklearn.ensemble._weight_boosting.AdaBoostClassifier'>  = 0.06530165672302246\n",
            "\n",
            "<class 'sklearn.ensemble._forest.RandomForestClassifier'> f1-score:  0.18265682656826568\n",
            "time to train  <class 'sklearn.ensemble._forest.RandomForestClassifier'>  = 0.10966348648071289\n",
            "\n",
            "<class 'sklearn.ensemble._gb.GradientBoostingClassifier'> f1-score:  0.05155746509129967\n",
            "time to train  <class 'sklearn.ensemble._gb.GradientBoostingClassifier'>  = 0.018177032470703125\n",
            "\n",
            "<class 'sklearn.tree._classes.DecisionTreeClassifier'> f1-score:  0.2442528735632184\n",
            "time to train  <class 'sklearn.tree._classes.DecisionTreeClassifier'>  = 0.01894688606262207\n",
            "\n",
            "NY\n",
            "<class 'sklearn.linear_model._logistic.LogisticRegression'> f1-score:  0.052486187845303865\n",
            "time to train  <class 'sklearn.linear_model._logistic.LogisticRegression'>  = 0.011697530746459961\n",
            "\n",
            "<class 'sklearn.neighbors._classification.KNeighborsClassifier'> f1-score:  0.38790035587188615\n",
            "time to train  <class 'sklearn.neighbors._classification.KNeighborsClassifier'>  = 0.27151989936828613\n",
            "\n",
            "<class 'sklearn.ensemble._weight_boosting.AdaBoostClassifier'> f1-score:  0.0030349013657056142\n",
            "time to train  <class 'sklearn.ensemble._weight_boosting.AdaBoostClassifier'>  = 0.048259735107421875\n",
            "\n",
            "<class 'sklearn.ensemble._forest.RandomForestClassifier'> f1-score:  0.4065040650406504\n",
            "time to train  <class 'sklearn.ensemble._forest.RandomForestClassifier'>  = 0.06752991676330566\n",
            "\n",
            "<class 'sklearn.ensemble._gb.GradientBoostingClassifier'> f1-score:  0.0\n",
            "time to train  <class 'sklearn.ensemble._gb.GradientBoostingClassifier'>  = 0.011679887771606445\n",
            "\n",
            "<class 'sklearn.tree._classes.DecisionTreeClassifier'> f1-score:  0.315058986814712\n",
            "time to train  <class 'sklearn.tree._classes.DecisionTreeClassifier'>  = 0.012352943420410156\n",
            "\n",
            "KS\n",
            "<class 'sklearn.linear_model._logistic.LogisticRegression'> f1-score:  0.19552860932171276\n",
            "time to train  <class 'sklearn.linear_model._logistic.LogisticRegression'>  = 0.01369023323059082\n",
            "\n",
            "<class 'sklearn.neighbors._classification.KNeighborsClassifier'> f1-score:  0.5689914701455092\n",
            "time to train  <class 'sklearn.neighbors._classification.KNeighborsClassifier'>  = 0.29097962379455566\n",
            "\n",
            "<class 'sklearn.ensemble._weight_boosting.AdaBoostClassifier'> f1-score:  0.593900481540931\n",
            "time to train  <class 'sklearn.ensemble._weight_boosting.AdaBoostClassifier'>  = 0.051723480224609375\n",
            "\n",
            "<class 'sklearn.ensemble._forest.RandomForestClassifier'> f1-score:  0.6974833076527992\n",
            "time to train  <class 'sklearn.ensemble._forest.RandomForestClassifier'>  = 0.09977221488952637\n",
            "\n",
            "<class 'sklearn.ensemble._gb.GradientBoostingClassifier'> f1-score:  0.6257701580498258\n",
            "time to train  <class 'sklearn.ensemble._gb.GradientBoostingClassifier'>  = 0.017788410186767578\n",
            "\n",
            "<class 'sklearn.tree._classes.DecisionTreeClassifier'> f1-score:  0.6339700567888488\n",
            "time to train  <class 'sklearn.tree._classes.DecisionTreeClassifier'>  = 0.013199090957641602\n",
            "\n",
            "NC\n",
            "<class 'sklearn.linear_model._logistic.LogisticRegression'> f1-score:  0.2710843373493976\n",
            "time to train  <class 'sklearn.linear_model._logistic.LogisticRegression'>  = 0.01661515235900879\n",
            "\n",
            "<class 'sklearn.neighbors._classification.KNeighborsClassifier'> f1-score:  0.5406566431420681\n",
            "time to train  <class 'sklearn.neighbors._classification.KNeighborsClassifier'>  = 0.25504541397094727\n",
            "\n",
            "<class 'sklearn.ensemble._weight_boosting.AdaBoostClassifier'> f1-score:  0.536554354736173\n",
            "time to train  <class 'sklearn.ensemble._weight_boosting.AdaBoostClassifier'>  = 0.04555225372314453\n",
            "\n",
            "<class 'sklearn.ensemble._forest.RandomForestClassifier'> f1-score:  0.634920634920635\n",
            "time to train  <class 'sklearn.ensemble._forest.RandomForestClassifier'>  = 0.08783459663391113\n",
            "\n",
            "<class 'sklearn.ensemble._gb.GradientBoostingClassifier'> f1-score:  0.5702757229320781\n",
            "time to train  <class 'sklearn.ensemble._gb.GradientBoostingClassifier'>  = 0.012865304946899414\n",
            "\n",
            "<class 'sklearn.tree._classes.DecisionTreeClassifier'> f1-score:  0.5767131594906005\n",
            "time to train  <class 'sklearn.tree._classes.DecisionTreeClassifier'>  = 0.013884544372558594\n",
            "\n",
            "GA\n",
            "<class 'sklearn.linear_model._logistic.LogisticRegression'> f1-score:  0.8648291069459757\n",
            "time to train  <class 'sklearn.linear_model._logistic.LogisticRegression'>  = 0.019489288330078125\n",
            "\n",
            "<class 'sklearn.neighbors._classification.KNeighborsClassifier'> f1-score:  0.8042043510144219\n",
            "time to train  <class 'sklearn.neighbors._classification.KNeighborsClassifier'>  = 0.15346693992614746\n",
            "\n",
            "<class 'sklearn.ensemble._weight_boosting.AdaBoostClassifier'> f1-score:  0.8476607513251901\n",
            "time to train  <class 'sklearn.ensemble._weight_boosting.AdaBoostClassifier'>  = 0.03793764114379883\n",
            "\n",
            "<class 'sklearn.ensemble._forest.RandomForestClassifier'> f1-score:  0.8482060717571297\n",
            "time to train  <class 'sklearn.ensemble._forest.RandomForestClassifier'>  = 0.07681512832641602\n",
            "\n",
            "<class 'sklearn.ensemble._gb.GradientBoostingClassifier'> f1-score:  0.8556442417331813\n",
            "time to train  <class 'sklearn.ensemble._gb.GradientBoostingClassifier'>  = 0.014671564102172852\n",
            "\n",
            "<class 'sklearn.tree._classes.DecisionTreeClassifier'> f1-score:  0.7554744525547447\n",
            "time to train  <class 'sklearn.tree._classes.DecisionTreeClassifier'>  = 0.011828899383544922\n",
            "\n",
            "FL\n",
            "<class 'sklearn.linear_model._logistic.LogisticRegression'> f1-score:  0.8754409769335142\n",
            "time to train  <class 'sklearn.linear_model._logistic.LogisticRegression'>  = 0.008303165435791016\n",
            "\n",
            "<class 'sklearn.neighbors._classification.KNeighborsClassifier'> f1-score:  0.8646239554317551\n",
            "time to train  <class 'sklearn.neighbors._classification.KNeighborsClassifier'>  = 0.13177156448364258\n",
            "\n",
            "<class 'sklearn.ensemble._weight_boosting.AdaBoostClassifier'> f1-score:  0.8632454923717059\n",
            "time to train  <class 'sklearn.ensemble._weight_boosting.AdaBoostClassifier'>  = 0.05068802833557129\n",
            "\n",
            "<class 'sklearn.ensemble._forest.RandomForestClassifier'> f1-score:  0.8745578231292518\n",
            "time to train  <class 'sklearn.ensemble._forest.RandomForestClassifier'>  = 0.055785179138183594\n",
            "\n",
            "<class 'sklearn.ensemble._gb.GradientBoostingClassifier'> f1-score:  0.875067897881586\n",
            "time to train  <class 'sklearn.ensemble._gb.GradientBoostingClassifier'>  = 0.01584315299987793\n",
            "\n",
            "<class 'sklearn.tree._classes.DecisionTreeClassifier'> f1-score:  0.8096385542168675\n",
            "time to train  <class 'sklearn.tree._classes.DecisionTreeClassifier'>  = 0.012716293334960938\n",
            "\n",
            "OR\n",
            "<class 'sklearn.linear_model._logistic.LogisticRegression'> f1-score:  0.49514563106796117\n",
            "time to train  <class 'sklearn.linear_model._logistic.LogisticRegression'>  = 0.0169217586517334\n",
            "\n",
            "<class 'sklearn.neighbors._classification.KNeighborsClassifier'> f1-score:  0.49514563106796117\n",
            "time to train  <class 'sklearn.neighbors._classification.KNeighborsClassifier'>  = 0.12827038764953613\n",
            "\n",
            "<class 'sklearn.ensemble._weight_boosting.AdaBoostClassifier'> f1-score:  0.023703703703703703\n",
            "time to train  <class 'sklearn.ensemble._weight_boosting.AdaBoostClassifier'>  = 0.04267764091491699\n",
            "\n",
            "<class 'sklearn.ensemble._forest.RandomForestClassifier'> f1-score:  0.0\n",
            "time to train  <class 'sklearn.ensemble._forest.RandomForestClassifier'>  = 0.04379415512084961\n",
            "\n",
            "<class 'sklearn.ensemble._gb.GradientBoostingClassifier'> f1-score:  0.49514563106796117\n",
            "time to train  <class 'sklearn.ensemble._gb.GradientBoostingClassifier'>  = 0.013365030288696289\n",
            "\n",
            "<class 'sklearn.tree._classes.DecisionTreeClassifier'> f1-score:  0.03170028818443804\n",
            "time to train  <class 'sklearn.tree._classes.DecisionTreeClassifier'>  = 0.008872509002685547\n",
            "\n",
            "MT\n",
            "<class 'sklearn.linear_model._logistic.LogisticRegression'> f1-score:  0.22942206654991243\n",
            "time to train  <class 'sklearn.linear_model._logistic.LogisticRegression'>  = 0.009440422058105469\n",
            "\n",
            "<class 'sklearn.neighbors._classification.KNeighborsClassifier'> f1-score:  0.49688581314878894\n",
            "time to train  <class 'sklearn.neighbors._classification.KNeighborsClassifier'>  = 0.14499235153198242\n",
            "\n",
            "<class 'sklearn.ensemble._weight_boosting.AdaBoostClassifier'> f1-score:  0.5579655946148093\n",
            "time to train  <class 'sklearn.ensemble._weight_boosting.AdaBoostClassifier'>  = 0.03854084014892578\n",
            "\n",
            "<class 'sklearn.ensemble._forest.RandomForestClassifier'> f1-score:  0.6314221891288161\n",
            "time to train  <class 'sklearn.ensemble._forest.RandomForestClassifier'>  = 0.06187772750854492\n",
            "\n",
            "<class 'sklearn.ensemble._gb.GradientBoostingClassifier'> f1-score:  0.46700507614213194\n",
            "time to train  <class 'sklearn.ensemble._gb.GradientBoostingClassifier'>  = 0.014026165008544922\n",
            "\n",
            "<class 'sklearn.tree._classes.DecisionTreeClassifier'> f1-score:  0.5758354755784062\n",
            "time to train  <class 'sklearn.tree._classes.DecisionTreeClassifier'>  = 0.012071609497070312\n",
            "\n",
            "AL\n",
            "<class 'sklearn.linear_model._logistic.LogisticRegression'> f1-score:  0.9454756380510441\n",
            "time to train  <class 'sklearn.linear_model._logistic.LogisticRegression'>  = 0.009106159210205078\n",
            "\n",
            "<class 'sklearn.neighbors._classification.KNeighborsClassifier'> f1-score:  0.881948782011243\n",
            "time to train  <class 'sklearn.neighbors._classification.KNeighborsClassifier'>  = 0.07315492630004883\n",
            "\n",
            "<class 'sklearn.ensemble._weight_boosting.AdaBoostClassifier'> f1-score:  0.9328621908127209\n",
            "time to train  <class 'sklearn.ensemble._weight_boosting.AdaBoostClassifier'>  = 0.03604769706726074\n",
            "\n",
            "<class 'sklearn.ensemble._forest.RandomForestClassifier'> f1-score:  0.9384885764499121\n",
            "time to train  <class 'sklearn.ensemble._forest.RandomForestClassifier'>  = 0.03670024871826172\n",
            "\n",
            "<class 'sklearn.ensemble._gb.GradientBoostingClassifier'> f1-score:  0.9422066549912433\n",
            "time to train  <class 'sklearn.ensemble._gb.GradientBoostingClassifier'>  = 0.016275644302368164\n",
            "\n",
            "<class 'sklearn.tree._classes.DecisionTreeClassifier'> f1-score:  0.8465539661898569\n",
            "time to train  <class 'sklearn.tree._classes.DecisionTreeClassifier'>  = 0.010866880416870117\n",
            "\n"
          ]
        }
      ]
    },
    {
      "cell_type": "code",
      "source": [
        "combo_eval_df = ModelsExperiments[(ModelsExperiments['trained_by']=='combo') & (ModelsExperiments['eval_by']!='National')].copy()\n",
        "combo_eval = combo_eval_df.groupby(by='eval_by')['f1'].mean().sort_values()"
      ],
      "metadata": {
        "id": "ScaUgDizJdAl"
      },
      "execution_count": null,
      "outputs": []
    },
    {
      "cell_type": "code",
      "source": [
        "plt.plot(combo_eval)\n",
        "plt.hlines(0.692034193188317,xmin=0,xmax=11)\n",
        "plt.show()"
      ],
      "metadata": {
        "colab": {
          "base_uri": "https://localhost:8080/",
          "height": 265
        },
        "id": "iyrwq9_lLXy4",
        "outputId": "f5038931-c821-4f43-e6e9-874a19124493"
      },
      "execution_count": null,
      "outputs": [
        {
          "output_type": "display_data",
          "data": {
            "text/plain": [
              "<Figure size 432x288 with 1 Axes>"
            ],
            "image/png": "[encoded data removed]"
          },
          "metadata": {
            "needs_background": "light"
          }
        }
      ]
    },
    {
      "cell_type": "code",
      "source": [
        "plt.hist(ModelsExperiments['f1'])\n",
        "plt.axvline(ModelsExperiments['f1'].mean())"
      ],
      "metadata": {
        "colab": {
          "base_uri": "https://localhost:8080/",
          "height": 283
        },
        "id": "xQ7QMo712Dk0",
        "outputId": "67a30441-a7dd-42f0-d3ca-b420985aabe3"
      },
      "execution_count": null,
      "outputs": [
        {
          "output_type": "execute_result",
          "data": {
            "text/plain": [
              "<matplotlib.lines.Line2D at 0x7f0225963bd0>"
            ]
          },
          "metadata": {},
          "execution_count": 22
        },
        {
          "output_type": "display_data",
          "data": {
            "text/plain": [
              "<Figure size 432x288 with 1 Axes>"
            ],
            "image/png": "[encoded data removed]"
          },
          "metadata": {
            "needs_background": "light"
          }
        }
      ]
    },
    {
      "cell_type": "markdown",
      "source": [
        "# Southestern States"
      ],
      "metadata": {
        "id": "3udcc-EDmNev"
      }
    },
    {
      "cell_type": "code",
      "source": [
        "Southeast = ['TX','FL','GA','AL']"
      ],
      "metadata": {
        "id": "wULhPcqdvdJo"
      },
      "execution_count": null,
      "outputs": []
    },
    {
      "cell_type": "code",
      "source": [
        "np.mean(list(ModelsExperiments[ModelsExperiments['trained_by'].isin(Southeast)].groupby('trained_by')['f1'].mean()))"
      ],
      "metadata": {
        "colab": {
          "base_uri": "https://localhost:8080/"
        },
        "id": "pxln2PjZmP0Q",
        "outputId": "926a3b62-54f2-4722-df0a-e2bed7f096c5"
      },
      "execution_count": null,
      "outputs": [
        {
          "output_type": "execute_result",
          "data": {
            "text/plain": [
              "0.8739744475219949"
            ]
          },
          "metadata": {},
          "execution_count": 149
        }
      ]
    },
    {
      "cell_type": "code",
      "source": [
        "ModelsExperiments[ModelsExperiments['trained_by'] == 'National'].groupby('eval_by')['f1'].mean()"
      ],
      "metadata": {
        "colab": {
          "base_uri": "https://localhost:8080/"
        },
        "id": "brJDQqyOmhmy",
        "outputId": "cef5c942-e6f5-44f5-bdbc-65c7fd13be71"
      },
      "execution_count": null,
      "outputs": [
        {
          "output_type": "execute_result",
          "data": {
            "text/plain": [
              "eval_by\n",
              "AL          0.889329\n",
              "AZ          0.190384\n",
              "CA          0.262047\n",
              "CO          0.141727\n",
              "FL          0.868207\n",
              "GA          0.810676\n",
              "KS          0.550899\n",
              "MT          0.486160\n",
              "NC          0.520371\n",
              "NY          0.184358\n",
              "National    0.693241\n",
              "OR          0.265353\n",
              "TX          0.858186\n",
              "Name: f1, dtype: float64"
            ]
          },
          "metadata": {},
          "execution_count": 144
        }
      ]
    },
    {
      "cell_type": "code",
      "source": [
        "len(FiresNew[FiresNew['STATE'].isin(Southeast)])"
      ],
      "metadata": {
        "colab": {
          "base_uri": "https://localhost:8080/"
        },
        "id": "NLY5FjMAmwqT",
        "outputId": "08153d04-b299-49a3-953a-948263ba99c1"
      },
      "execution_count": null,
      "outputs": [
        {
          "output_type": "execute_result",
          "data": {
            "text/plain": [
              "65799"
            ]
          },
          "metadata": {},
          "execution_count": 155
        }
      ]
    },
    {
      "cell_type": "code",
      "source": [
        "len(FiresNew[~FiresNew['STATE'].isin(Southeast)])"
      ],
      "metadata": {
        "colab": {
          "base_uri": "https://localhost:8080/"
        },
        "id": "BlzP6fINudhE",
        "outputId": "77f5ddb3-ac9a-4a0e-83b8-eacb70f2be8d"
      },
      "execution_count": null,
      "outputs": [
        {
          "output_type": "execute_result",
          "data": {
            "text/plain": [
              "95554"
            ]
          },
          "metadata": {},
          "execution_count": 159
        }
      ]
    },
    {
      "cell_type": "code",
      "source": [
        "len(FiresNew[FiresNew['STATE'].isin(Southeast)])/len(FiresNew)"
      ],
      "metadata": {
        "colab": {
          "base_uri": "https://localhost:8080/"
        },
        "id": "PlVOZqx5u09W",
        "outputId": "d8fce6a6-86e2-47ab-f2e1-3cf9fee36b76"
      },
      "execution_count": null,
      "outputs": [
        {
          "output_type": "execute_result",
          "data": {
            "text/plain": [
              "0.4077953307344766"
            ]
          },
          "metadata": {},
          "execution_count": 161
        }
      ]
    },
    {
      "cell_type": "code",
      "source": [
        ""
      ],
      "metadata": {
        "id": "4nKDHCc1u3Vt"
      },
      "execution_count": null,
      "outputs": []
    }
  ]
}