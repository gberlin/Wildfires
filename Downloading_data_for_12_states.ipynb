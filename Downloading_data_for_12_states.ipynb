{
  "nbformat": 4,
  "nbformat_minor": 0,
  "metadata": {
    "colab": {
      "name": "Downloading data for 12 states.ipynb",
      "provenance": [],
      "collapsed_sections": []
    },
    "kernelspec": {
      "name": "python3",
      "display_name": "Python 3"
    },
    "language_info": {
      "name": "python"
    }
  },
  "cells": [
    {
      "cell_type": "code",
      "execution_count": null,
      "metadata": {
        "colab": {
          "base_uri": "https://localhost:8080/"
        },
        "id": "yI872kfdF9Sb",
        "outputId": "ff1d4ca7-13ed-4003-d615-42489d33f424"
      },
      "outputs": [
        {
          "output_type": "stream",
          "name": "stdout",
          "text": [
            "Mounted at /content/drive\n"
          ]
        },
        {
          "output_type": "execute_result",
          "data": {
            "text/plain": [
              "0"
            ]
          },
          "metadata": {},
          "execution_count": 1
        }
      ],
      "source": [
        "# import libraries\n",
        "import pandas as pd\n",
        "import numpy as np\n",
        "import matplotlib.pyplot as plt\n",
        "from netCDF4 import Dataset\n",
        "import xarray as xr\n",
        "from datetime import date\n",
        "import sqlite3\n",
        "import gc\n",
        "\n",
        "# read data\n",
        "## mount google drive\n",
        "from google.colab import drive\n",
        "drive.mount('/content/drive')\n",
        "\n",
        "## read in files\n",
        "dir = '/content/drive/MyDrive/DS 440/Wildfire Data Dir/Data/'\n",
        "cnx = sqlite3.connect(dir + 'wildfire_data.sqlite')\n",
        "cursor = cnx.cursor()\n",
        "cursor.execute(\"SELECT name FROM sqlite_master WHERE type='Fires';\")\n",
        "tables = cursor.fetchall()\n",
        "Fires = pd.read_sql_query(\"SELECT * FROM 'Fires'\", cnx).set_index('FOD_ID')\n",
        "Fires.drop(columns=['FPA_ID','SOURCE_SYSTEM_TYPE','SOURCE_SYSTEM','NWCG_REPORTING_AGENCY','NWCG_REPORTING_UNIT_ID',\\\n",
        "                    'NWCG_REPORTING_UNIT_NAME','SOURCE_REPORTING_UNIT','SOURCE_REPORTING_UNIT_NAME','LOCAL_FIRE_REPORT_ID',\\\n",
        "                    'LOCAL_INCIDENT_ID','FIRE_CODE','FIRE_NAME','ICS_209_PLUS_INCIDENT_JOIN_ID','ICS_209_PLUS_COMPLEX_JOIN_ID',\\\n",
        "                    'MTBS_ID','MTBS_FIRE_NAME','COMPLEX_NAME','OWNER_DESCR','NWCG_CAUSE_CLASSIFICATION',\\\n",
        "                    'NWCG_CAUSE_AGE_CATEGORY','CONT_TIME','CONT_DATE'],inplace=True) #,'DISCOVERY_TIME'\n",
        "gc.collect()"
      ]
    },
    {
      "cell_type": "code",
      "source": [
        "Fires = Fires[Fires['FIRE_YEAR'] > 2014].copy()\n",
        "gc.collect()"
      ],
      "metadata": {
        "colab": {
          "base_uri": "https://localhost:8080/"
        },
        "id": "KizHSIehGWda",
        "outputId": "957738f3-57fe-46b2-b81d-1c677dd66188"
      },
      "execution_count": null,
      "outputs": [
        {
          "output_type": "execute_result",
          "data": {
            "text/plain": [
              "72"
            ]
          },
          "metadata": {},
          "execution_count": 2
        }
      ]
    },
    {
      "cell_type": "code",
      "source": [
        "# extract month from discovery date\n",
        "def get_first_element(date_list):\n",
        "  return date_list[0]\n",
        "\n",
        "Fires['DISCOVERY_DATE'] = Fires['DISCOVERY_DATE'].astype(\"string\")\n",
        "Fires['DISCOVERY_LIST'] = Fires['DISCOVERY_DATE'].str.split(pat='/')\n",
        "Fires['DISCOVERY_MONTH'] = Fires['DISCOVERY_LIST'].map(get_first_element)\n",
        "Fires['DISCOVERY_MONTH'] = Fires['DISCOVERY_MONTH'].astype(\"int64\")\n",
        "\n",
        "# encode causes into integers\n",
        "Fires['NWCG_GENERAL_CAUSE'] = Fires['NWCG_GENERAL_CAUSE'].astype(\"string\")\n",
        "\n",
        "# figure out number of days to contain the fire\n",
        "Fires['DAYS_TO_CONT'] = Fires['CONT_DOY'] - Fires['DISCOVERY_DOY']\n",
        "##### if it was contained the next year, need to do something about that\n",
        "def convert_negative_days(day):\n",
        "  if day < 0:\n",
        "    return 365 + day\n",
        "  else:\n",
        "    return day\n",
        "\n",
        "Fires['DAYS_TO_CONT'] = Fires['DAYS_TO_CONT'].map(convert_negative_days)\n",
        "\n",
        "# encode state categories into integers\n",
        "Fires['STATE'] = Fires['STATE'].astype(\"string\")\n",
        "\n",
        "# fill NA with mean of day to containment (mean = 0.92)\n",
        "Fires['DAYS_TO_CONT'].fillna(value=Fires['DAYS_TO_CONT'].mean(),inplace=True)\n",
        "\n",
        "#'DISCOVERY_LIST',\n",
        "# drop date and list\n",
        "Fires.drop(columns=['DISCOVERY_DATE','CONT_DOY','DISCOVERY_DOY','FIPS_NAME',\\\n",
        "                    'COUNTY','FIPS_CODE'],inplace=True)\n",
        "gc.collect()"
      ],
      "metadata": {
        "colab": {
          "base_uri": "https://localhost:8080/"
        },
        "id": "qA0GbZ16GKpK",
        "outputId": "9eb36d39-4c3c-4b0c-b71e-12d4d1712cb1"
      },
      "execution_count": null,
      "outputs": [
        {
          "output_type": "execute_result",
          "data": {
            "text/plain": [
              "19"
            ]
          },
          "metadata": {},
          "execution_count": 3
        }
      ]
    },
    {
      "cell_type": "markdown",
      "source": [
        "# Downloading Weather Data"
      ],
      "metadata": {
        "id": "3iRSp4-6JVWR"
      }
    },
    {
      "cell_type": "code",
      "source": [
        "def get_weather_data(lat_min,lat_max,lon_min,lon_max,varname):\n",
        "\n",
        "  #============================\n",
        "  # General Settings\n",
        "  #============================\n",
        "\n",
        "  # enter your bounding lat/lon for data extraction\n",
        "  latbounds = [41, 44]\n",
        "  lonbounds = [75, 80]\n",
        "\n",
        "  # enter your time start and time end\n",
        "  year_start = 2014\n",
        "  year_end = 2018\n",
        "  month_start=1\n",
        "  month_end=12\n",
        "\n",
        "  # enter opendap filename\n",
        "  pathname = 'http://thredds.northwestknowledge.net:8080/thredds/dodsC/agg_terraclimate_' + varname + '_1958_CurrentYear_GLOBE.nc'\n",
        "  filehandle = Dataset(pathname,'r',format=\"NETCDF4\")\n",
        "\n",
        "  # enter variable name in the above opendap file\n",
        "  #varname = 'aet'\n",
        "\n",
        "  #============================\n",
        "  # Data Subsetting \n",
        "  #============================\n",
        "\n",
        "  # subset in space (lat/lon)\n",
        "  lathandle = filehandle.variables['lat']\n",
        "  lonhandle = filehandle.variables['lon']\n",
        "  lat=lathandle[:]\n",
        "  lon=lonhandle[:]\n",
        "\n",
        "  # find indices of target lat/lon/day\n",
        "  # find min/max lat/lon\n",
        "  #lat_min = Fires['LATITUDE'].min()\n",
        "  #lat_max = Fires['LATITUDE'].max()\n",
        "  #lon_min = Fires['LONGITUDE'].min()\n",
        "  #lon_max = Fires['LONGITUDE'].max()\n",
        "  lat_index_min = (np.abs(lat-lat_min)).argmin()\n",
        "  lat_index_max = (np.abs(lat-lat_max)).argmin()\n",
        "  lon_index_min = (np.abs(lon-lon_min)).argmin()\n",
        "  lon_index_max = (np.abs(lon-lon_max)).argmin()\n",
        "\n",
        "  def check_latlon_bounds(lat,lon,lat_index,lon_index,lat_target,lon_target):  \n",
        "      #check final indices are in right bounds\n",
        "      if(lat[lat_index]>lat_target):   \n",
        "          if(lat_index!=0):\n",
        "              lat_index = lat_index - 1\n",
        "      if(lat[lat_index]<lat_target):\n",
        "          if(lat_index!=len(lat)):\n",
        "              lat_index = lat_index +1\n",
        "      if(lon[lon_index]>lon_target):\n",
        "          if(lon_index!=0):\n",
        "              lon_index = lon_index - 1\n",
        "      if(lon[lon_index]<lon_target):\n",
        "          if(lon_index!=len(lon)):\n",
        "              lon_index = lon_index + 1\n",
        "\n",
        "      return [lat_index, lon_index]\n",
        "\n",
        "  [lat_index_min,lon_index_min] = check_latlon_bounds(lat, lon, lat_index_min, lon_index_min, lat_min, lon_min)   \n",
        "  [lat_index_max,lon_index_max] = check_latlon_bounds(lat, lon, lat_index_max, lon_index_max, lon_max, lon_max)\n",
        "\n",
        "  if(lat_index_min>lat_index_max):\n",
        "      lat_index_range = range(lat_index_max, lat_index_min+1)\n",
        "  else:\n",
        "      lat_index_range = range(lat_index_min, lat_index_max+1)\n",
        "  if(lon_index_min>lon_index_max):\n",
        "      lon_index_range = range(lon_index_max, lon_index_min+1)\n",
        "  else:\n",
        "      lon_index_range = range(lon_index_min, lon_index_max+1)\n",
        "      \n",
        "  lat=lat[lat_index_range]\n",
        "  lon=lon[lon_index_range]\n",
        "\n",
        "  #============================\n",
        "  # subset in time\n",
        "  timehandle=filehandle.variables['time']\n",
        "  time=timehandle[:]\n",
        "  time_min = (date(year_start,month_start,1)-date(1900,1,1)).days\n",
        "  time_max = (date(year_end,month_end,1)-date(1900,1,1)).days \n",
        "  time_index_min = (np.abs(time-time_min)).argmin()\n",
        "  time_index_max = (np.abs(time-time_max)).argmin()\n",
        "  time_index_range = range(time_index_min, time_index_max+1)\n",
        "  time = timehandle[time_index_range]\n",
        "\n",
        "  #============================\n",
        "  # subset data\n",
        "  datahandle = filehandle.variables[varname]\n",
        "  data = datahandle[time_index_range,lat_index_range,lon_index_range]\n",
        "  #print(type(data))\n",
        "  return(data)"
      ],
      "metadata": {
        "id": "PE__bVBiLbfV"
      },
      "execution_count": null,
      "outputs": []
    },
    {
      "cell_type": "code",
      "source": [
        "states_with_most_fires = list(Fires.groupby(by='STATE').size().sort_values(ascending=False)[:12].index)\n",
        "\n",
        "variables = ['aet','pet','soil','PDSI','def', 'ppt', 'q', 'tmax', 'tmin', 'vap', 'ws', 'vpd', 'srad', 'swe']\n",
        "dct = dict()\n",
        "\n",
        "for state in states_with_most_fires:\n",
        "  print(state)\n",
        "\n",
        "  # subset data by state\n",
        "  dct[state] = Fires[Fires['STATE'] == state].copy()\n",
        "  dct[state].reset_index(inplace=True)\n",
        "\n",
        "  month = list(dct[state].columns).index('DISCOVERY_MONTH')\n",
        "  year = list(dct[state].columns).index('FIRE_YEAR')\n",
        "  lat = list(dct[state].columns).index('LATITUDE')\n",
        "  lon = list(dct[state].columns).index('LONGITUDE')\n",
        "\n",
        "    # get data for variable and state\n",
        "  lat_min = dct[state]['LATITUDE'].min()\n",
        "  lat_max = dct[state]['LATITUDE'].max()\n",
        "  lon_min = dct[state]['LONGITUDE'].min()\n",
        "  lon_max = dct[state]['LONGITUDE'].max()\n",
        "  lat_range = lat_max - lat_min\n",
        "  lon_range = lon_max - lon_min\n",
        "\n",
        "  for var in variables:\n",
        "    print(var)\n",
        "    masked_state_data = get_weather_data(lat_min,lat_max,lon_min,lon_max,var)\n",
        "\n",
        "    # init array to store data\n",
        "    weather_array = np.zeros(len(dct[state]))\n",
        "\n",
        "    # determine size of arrary\n",
        "    lon_size = masked_state_data.data.shape[2]\n",
        "    lat_size = masked_state_data.data.shape[1]\n",
        "\n",
        "    for i, row in enumerate(dct[state].values):\n",
        "      if i % 100 == 0:\n",
        "        pass\n",
        "        #print(i, var, state)\n",
        "        #print(row[lon])\n",
        "\n",
        "      # data indexing\n",
        "      fire_time_index = (int(row[month]) + 12 * (int(row[year]) - 2014)) - 1\n",
        "      fire_lat_index = (row[lat] - lat_min) / lat_size\n",
        "      fire_lon_index = (row[lon] - lon_min) / lon_size\n",
        "      #print(i,fire_time_index,fire_lat_index,fire_lon_index,int(row[lon]))\n",
        "      #print(i,row[lon],lon_min)\n",
        "      point = masked_state_data.data[fire_time_index][int(fire_lat_index)][int(fire_lon_index)]\n",
        "      weather_array[i] = point\n",
        "\n",
        "    # add weather array to dataframe\n",
        "    dct[state][var] = weather_array"
      ],
      "metadata": {
        "colab": {
          "base_uri": "https://localhost:8080/"
        },
        "id": "Y4m0h_a8UGgw",
        "outputId": "3a7ee9b0-3e8f-4c95-e0d8-aff4cca0ad0e"
      },
      "execution_count": null,
      "outputs": [
        {
          "output_type": "stream",
          "name": "stdout",
          "text": [
            "CA\n",
            "aet\n",
            "pet\n",
            "soil\n",
            "PDSI\n",
            "def\n",
            "ppt\n",
            "q\n",
            "tmax\n",
            "tmin\n",
            "vap\n",
            "ws\n",
            "vpd\n",
            "srad\n",
            "swe\n",
            "TX\n",
            "aet\n",
            "pet\n",
            "soil\n",
            "PDSI\n",
            "def\n",
            "ppt\n",
            "q\n",
            "tmax\n",
            "tmin\n",
            "vap\n",
            "ws\n",
            "vpd\n",
            "srad\n",
            "swe\n",
            "AZ\n",
            "aet\n",
            "pet\n",
            "soil\n",
            "PDSI\n",
            "def\n",
            "ppt\n",
            "q\n",
            "tmax\n",
            "tmin\n",
            "vap\n",
            "ws\n",
            "vpd\n",
            "srad\n",
            "swe\n",
            "CO\n",
            "aet\n",
            "pet\n",
            "soil\n",
            "PDSI\n",
            "def\n",
            "ppt\n",
            "q\n",
            "tmax\n",
            "tmin\n",
            "vap\n",
            "ws\n",
            "vpd\n",
            "srad\n",
            "swe\n",
            "NY\n",
            "aet\n",
            "pet\n",
            "soil\n",
            "PDSI\n",
            "def\n",
            "ppt\n",
            "q\n",
            "tmax\n",
            "tmin\n",
            "vap\n",
            "ws\n",
            "vpd\n",
            "srad\n",
            "swe\n",
            "KS\n",
            "aet\n",
            "pet\n",
            "soil\n",
            "PDSI\n",
            "def\n",
            "ppt\n",
            "q\n",
            "tmax\n",
            "tmin\n",
            "vap\n",
            "ws\n",
            "vpd\n",
            "srad\n",
            "swe\n",
            "NC\n",
            "aet\n",
            "pet\n",
            "soil\n",
            "PDSI\n",
            "def\n",
            "ppt\n",
            "q\n",
            "tmax\n",
            "tmin\n",
            "vap\n",
            "ws\n",
            "vpd\n",
            "srad\n",
            "swe\n",
            "GA\n",
            "aet\n",
            "pet\n",
            "soil\n",
            "PDSI\n",
            "def\n",
            "ppt\n",
            "q\n",
            "tmax\n",
            "tmin\n",
            "vap\n",
            "ws\n",
            "vpd\n",
            "srad\n",
            "swe\n",
            "FL\n",
            "aet\n",
            "pet\n",
            "soil\n",
            "PDSI\n",
            "def\n",
            "ppt\n",
            "q\n",
            "tmax\n",
            "tmin\n",
            "vap\n",
            "ws\n",
            "vpd\n",
            "srad\n",
            "swe\n",
            "OR\n",
            "aet\n",
            "pet\n",
            "soil\n",
            "PDSI\n",
            "def\n",
            "ppt\n",
            "q\n",
            "tmax\n",
            "tmin\n",
            "vap\n",
            "ws\n",
            "vpd\n",
            "srad\n",
            "swe\n",
            "MT\n",
            "aet\n",
            "pet\n",
            "soil\n",
            "PDSI\n",
            "def\n",
            "ppt\n",
            "q\n",
            "tmax\n",
            "tmin\n",
            "vap\n",
            "ws\n",
            "vpd\n",
            "srad\n",
            "swe\n",
            "AL\n",
            "aet\n",
            "pet\n",
            "soil\n",
            "PDSI\n",
            "def\n",
            "ppt\n",
            "q\n",
            "tmax\n",
            "tmin\n",
            "vap\n",
            "ws\n",
            "vpd\n",
            "srad\n",
            "swe\n"
          ]
        }
      ]
    },
    {
      "cell_type": "code",
      "source": [
        "for state in states_with_most_fires: #\n",
        "  #['CA', 'TX', 'AZ', 'CO', 'NY', 'KS']: #states_with_most_fires:\n",
        "  # download data for state\n",
        "  #'OR', 'MT', 'AL'\n",
        "  path = '/content/drive/MyDrive/DS 440/Final Report/Data/Big' + state + '.csv'\n",
        "  dct[state].to_csv(path) #Fires[Fires['STATE'] == state].to_csv(path)"
      ],
      "metadata": {
        "id": "p9UtJeIuG75J"
      },
      "execution_count": null,
      "outputs": []
    },
    {
      "cell_type": "code",
      "source": [
        "list(Fires.groupby(by='STATE').size().sort_values(ascending=False)[:12].index)"
      ],
      "metadata": {
        "colab": {
          "base_uri": "https://localhost:8080/"
        },
        "id": "y8YndpiRGcgz",
        "outputId": "7d50f95d-3ea7-41cf-aa28-f6b02c96b1a2"
      },
      "execution_count": null,
      "outputs": [
        {
          "output_type": "execute_result",
          "data": {
            "text/plain": [
              "['CA', 'TX', 'AZ', 'CO', 'NY', 'KS', 'NC', 'GA', 'FL', 'OR', 'MT', 'AL']"
            ]
          },
          "metadata": {},
          "execution_count": 31
        }
      ]
    },
    {
      "cell_type": "code",
      "source": [
        "dct['CA'].columns"
      ],
      "metadata": {
        "colab": {
          "base_uri": "https://localhost:8080/"
        },
        "id": "vVod6CfLaez2",
        "outputId": "0fad08dd-b05c-4954-a8f0-caffbf81684d"
      },
      "execution_count": null,
      "outputs": [
        {
          "output_type": "execute_result",
          "data": {
            "text/plain": [
              "Index(['FOD_ID', 'FIRE_YEAR', 'DISCOVERY_TIME', 'NWCG_GENERAL_CAUSE',\n",
              "       'FIRE_SIZE', 'FIRE_SIZE_CLASS', 'LATITUDE', 'LONGITUDE', 'STATE',\n",
              "       'DISCOVERY_LIST', 'DISCOVERY_MONTH', 'DAYS_TO_CONT', 'aet', 'pet',\n",
              "       'soil', 'PDSI', 'def', 'ppt', 'q', 'tmax', 'tmin', 'vap', 'ws', 'vpd',\n",
              "       'srad', 'swe'],\n",
              "      dtype='object')"
            ]
          },
          "metadata": {},
          "execution_count": 14
        }
      ]
    },
    {
      "cell_type": "code",
      "source": [
        "plt.hist(dct['CA'][(dct['CA']['aet'] < 3276) & (dct['CA']['FIRE_YEAR'] == 2015)]['aet'])\n",
        "#plt.hist(dct['CA']['aet'])"
      ],
      "metadata": {
        "colab": {
          "base_uri": "https://localhost:8080/",
          "height": 354
        },
        "id": "PJ5UVT3zZkOd",
        "outputId": "6ae61d0f-27f4-4b15-8e1b-abe43ddf42c4"
      },
      "execution_count": null,
      "outputs": [
        {
          "output_type": "execute_result",
          "data": {
            "text/plain": [
              "(array([ 542., 2135., 1216., 1557.,  779.,  342.,  405.,  221.,   44.,\n",
              "           4.]),\n",
              " array([ 0.  ,  8.12, 16.24, 24.36, 32.48, 40.6 , 48.72, 56.84, 64.96,\n",
              "        73.08, 81.2 ]),\n",
              " <a list of 10 Patch objects>)"
            ]
          },
          "metadata": {},
          "execution_count": 52
        },
        {
          "output_type": "display_data",
          "data": {
            "text/plain": [
              "<Figure size 432x288 with 1 Axes>"
            ],
            "image/png": "[encoded data removed]"
          },
          "metadata": {
            "needs_background": "light"
          }
        }
      ]
    },
    {
      "cell_type": "code",
      "source": [
        "plt.hist(dct['CA'][(dct['CA']['aet'] < 3276) & (dct['CA']['FIRE_YEAR'] == 2016)]['aet'])"
      ],
      "metadata": {
        "colab": {
          "base_uri": "https://localhost:8080/",
          "height": 354
        },
        "id": "L3lCoNMVbWm5",
        "outputId": "4c98a951-5508-4a77-a79b-1dc163eb245c"
      },
      "execution_count": null,
      "outputs": [
        {
          "output_type": "execute_result",
          "data": {
            "text/plain": [
              "(array([3142., 1230., 1191., 1309.,  316.,  269.,  117.,   36.,   51.,\n",
              "          63.]),\n",
              " array([ 0.  ,  8.84, 17.68, 26.52, 35.36, 44.2 , 53.04, 61.88, 70.72,\n",
              "        79.56, 88.4 ]),\n",
              " <a list of 10 Patch objects>)"
            ]
          },
          "metadata": {},
          "execution_count": 53
        },
        {
          "output_type": "display_data",
          "data": {
            "text/plain": [
              "<Figure size 432x288 with 1 Axes>"
            ],
            "image/png": "[encoded data removed]"
          },
          "metadata": {
            "needs_background": "light"
          }
        }
      ]
    }
  ]
}